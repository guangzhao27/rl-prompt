{
 "cells": [
  {
   "cell_type": "code",
   "execution_count": 16,
   "metadata": {},
   "outputs": [
    {
     "name": "stdout",
     "output_type": "stream",
     "text": [
      "Looking in indexes: https://pypi.org/simple, https://pypi.ngc.nvidia.com\n",
      "Collecting pygmo\n",
      "  Downloading pygmo-v2.19.0.tar.gz (3.0 MB)\n",
      "\u001b[2K     \u001b[90m━━━━━━━━━━━━━━━━━━━━━━━━━━━━━━━━━━━━━━━━\u001b[0m \u001b[32m3.0/3.0 MB\u001b[0m \u001b[31m25.1 MB/s\u001b[0m eta \u001b[36m0:00:00\u001b[0ma \u001b[36m0:00:01\u001b[0m\n",
      "\u001b[?25h\u001b[31mERROR: pygmo from https://files.pythonhosted.org/packages/e2/12/090ba61479f60d5177a0048736d09dc028b2d65063ed44cb952df506336f/pygmo-v2.19.0.tar.gz does not appear to be a Python project: neither 'setup.py' nor 'pyproject.toml' found.\u001b[0m\u001b[31m\n",
      "\u001b[0m"
     ]
    }
   ],
   "source": [
    "!pip install pygmo\n"
   ]
  },
  {
   "cell_type": "code",
   "execution_count": 13,
   "metadata": {},
   "outputs": [
    {
     "name": "stdout",
     "output_type": "stream",
     "text": [
      "The dominating hypervolume is: 0.17749999225139623\n"
     ]
    }
   ],
   "source": [
    "import pygmo as pg\n",
    "import torch\n",
    "# Example Pareto front: A list of 3D points (x, y, z)\n",
    "pareto_front =     torch.tensor([[-0.5, -0.7, -0.2],[-0.7, -0.5, -0.45]])\n",
    "\n",
    "\n",
    "# Reference point (should be worse than any point in the Pareto front)\n",
    "reference_point = [.0, .0, .0]\n",
    "\n",
    "# Create a hypervolume object\n",
    "hv = pg.hypervolume(pareto_front)\n",
    "\n",
    "# Compute the hypervolume w.r.t. the reference point\n",
    "hypervolume_value = hv.compute(reference_point)\n",
    "\n",
    "print(f\"The dominating hypervolume is: {hypervolume_value}\")\n"
   ]
  },
  {
   "cell_type": "code",
   "execution_count": null,
   "metadata": {},
   "outputs": [],
   "source": []
  },
  {
   "cell_type": "code",
   "execution_count": 2,
   "metadata": {},
   "outputs": [
    {
     "name": "stdout",
     "output_type": "stream",
     "text": [
      "The dominating hypervolume is: 0.006999999999999987\n"
     ]
    }
   ],
   "source": [
    "import numpy as np\n",
    "\n",
    "def calculate_3d_hypervolume(pareto_front, reference_point):\n",
    "    # Sort Pareto front by the first objective (x-axis)\n",
    "    sorted_front = sorted(pareto_front, key=lambda x: x[0])\n",
    "    \n",
    "    # Initialize hypervolume\n",
    "    hypervolume = 0.0\n",
    "    \n",
    "    # Iterate over the Pareto front points\n",
    "    for i in range(len(sorted_front)):\n",
    "        if i == 0:\n",
    "            x_len = reference_point[0] - sorted_front[i][0]\n",
    "        else:\n",
    "            x_len = sorted_front[i - 1][0] - sorted_front[i][0]\n",
    "        \n",
    "        y_len = reference_point[1] - sorted_front[i][1]\n",
    "        z_len = reference_point[2] - sorted_front[i][2]\n",
    "        \n",
    "        volume = x_len * y_len * z_len\n",
    "        hypervolume += volume\n",
    "    \n",
    "    return hypervolume\n",
    "\n",
    "# Example Pareto front: a list of 3D points (x, y, z)\n",
    "pareto_front = np.array([\n",
    "    [0.5, 0.7, 0], [0.7, 0.5, 0]\n",
    "])\n",
    "\n",
    "# Reference point (should be worse than any point in the Pareto front)\n",
    "reference_point = np.array([1.0, 1.0, 1.0])\n",
    "\n",
    "# Compute the hypervolume\n",
    "hypervolume_value = calculate_3d_hypervolume(pareto_front, reference_point)\n",
    "\n",
    "print(f\"The dominating hypervolume is: {hypervolume_value}\")\n"
   ]
  },
  {
   "cell_type": "code",
   "execution_count": 13,
   "metadata": {},
   "outputs": [
    {
     "name": "stdout",
     "output_type": "stream",
     "text": [
      "Dominating volume in 3D: tensor(504.)\n"
     ]
    }
   ],
   "source": [
    "def calculate_dominating_volume_3d(pareto_front, ref_point):\n",
    "    \"\"\"\n",
    "    Calculate the dominating volume of the Pareto front with respect to a reference point in 3D.\n",
    "\n",
    "    :param pareto_front: Torch tensor of size N*3 containing points in the Pareto front (N points, 3 objectives).\n",
    "    :param ref_point: Torch tensor of size 3 representing the reference point.\n",
    "    :return: Dominating volume of the Pareto front in 3D.\n",
    "    \"\"\"\n",
    "    # Sort Pareto front based on the first objective (ascending order)\n",
    "    sorted_pareto_front = pareto_front[pareto_front[:, 0].argsort()]\n",
    "    \n",
    "    # Initialize dominating volume\n",
    "    dominating_volume = 0.0\n",
    "    \n",
    "    # Initialize the upper corner of the volume\n",
    "    upper_corner = ref_point.clone()\n",
    "    \n",
    "    # Iterate through sorted Pareto front\n",
    "    for point in sorted_pareto_front:\n",
    "        # Calculate the width, height, and depth of the cuboid\n",
    "        width = point[0] - upper_corner[0]\n",
    "        height = point[1] - upper_corner[1]\n",
    "        depth = point[2] - upper_corner[2]\n",
    "        \n",
    "        # If width, height, or depth are negative, it means the point is not dominated in that direction\n",
    "        # and we should skip this point.\n",
    "        if width <= 0 or height <= 0 or depth <= 0:\n",
    "            continue\n",
    "        \n",
    "        # Update dominating volume by adding the volume of the cuboid\n",
    "        dominating_volume += width * height * depth\n",
    "        \n",
    "        # Update the upper corner for the next cuboid\n",
    "        upper_corner[0] = point[0]\n",
    "\n",
    "    return dominating_volume\n",
    "\n",
    "# Example usage\n",
    "import torch\n",
    "\n",
    "N = 5  # Number of points in the Pareto front\n",
    "pareto_front = torch.tensor([[7, 8, 9]])  # Random points in 3D space\n",
    "ref_point = torch.tensor([.0, .0, .0])  # Reference point in 3D space\n",
    "\n",
    "dom_volume = calculate_dominating_volume_3d(pareto_front, ref_point)\n",
    "print(\"Dominating volume in 3D:\", dom_volume)\n"
   ]
  },
  {
   "cell_type": "code",
   "execution_count": 14,
   "metadata": {},
   "outputs": [
    {
     "ename": "QhullError",
     "evalue": "QH6154 Qhull precision error: Initial simplex is flat (facet 1 is coplanar with the interior point)\n\nWhile executing:  | qhull i Qt\nOptions selected for Qhull 2019.1.r 2019/06/21:\n  run-id 1636645736  incidence  Qtriangulate  _pre-merge  _zero-centrum\n  _max-width  6  Error-roundoff 1.2e-14  _one-merge 8.7e-14\n  _near-inside 4.4e-13  Visible-distance 2.5e-14  U-max-coplanar 2.5e-14\n  Width-outside 5e-14  _wide-facet 1.5e-13  _maxoutside 1e-13\n\nprecision problems (corrected unless 'Q0' or an error)\n      4 degenerate hyperplanes recomputed with gaussian elimination\n      4 nearly singular or axis-parallel hyperplanes\n      4 zero divisors during back substitute\n      4 zero divisors during gaussian elimination\n\nThe input to qhull appears to be less than 3 dimensional, or a\ncomputation has overflowed.\n\nQhull could not construct a clearly convex simplex from points:\n- p3(v4):     2     3     4\n- p1(v3):     4     5     6\n- p2(v2):     7     8     9\n- p0(v1):     1     2     3\n\nThe center point is coplanar with a facet, or a vertex is coplanar\nwith a neighboring facet.  The maximum round off error for\ncomputing distances is 1.2e-14.  The center point, facets and distances\nto the center point are as follows:\n\ncenter point      3.5      4.5      5.5\n\nfacet p1 p2 p0 distance= -4.4e-16\nfacet p3 p2 p0 distance= -4.4e-16\nfacet p3 p1 p0 distance= -4.4e-16\nfacet p3 p1 p2 distance= -4.4e-16\n\nThese points either have a maximum or minimum x-coordinate, or\nthey maximize the determinant for k coordinates.  Trial points\nare first selected from points that maximize a coordinate.\n\nThe min and max coordinates for each dimension are:\n  0:         1         7  difference=    6\n  1:         2         8  difference=    6\n  2:         3         9  difference=    6\n\nIf the input should be full dimensional, you have several options that\nmay determine an initial simplex:\n  - use 'QJ'  to joggle the input and make it full dimensional\n  - use 'QbB' to scale the points to the unit cube\n  - use 'QR0' to randomly rotate the input for different maximum points\n  - use 'Qs'  to search all points for the initial simplex\n  - use 'En'  to specify a maximum roundoff error less than 1.2e-14.\n  - trace execution with 'T3' to see the determinant for each point.\n\nIf the input is lower dimensional:\n  - use 'QJ' to joggle the input and make it full dimensional\n  - use 'Qbk:0Bk:0' to delete coordinate k from the input.  You should\n    pick the coordinate with the least range.  The hull will have the\n    correct topology.\n  - determine the flat containing the points, rotate the points\n    into a coordinate plane, and delete the other coordinates.\n  - add one or more points to make the input full dimensional.\n",
     "output_type": "error",
     "traceback": [
      "\u001b[0;31m---------------------------------------------------------------------------\u001b[0m",
      "\u001b[0;31mQhullError\u001b[0m                                Traceback (most recent call last)",
      "Cell \u001b[0;32mIn[14], line 14\u001b[0m\n\u001b[1;32m     10\u001b[0m \u001b[38;5;28;01mif\u001b[39;00m \u001b[38;5;18m__name__\u001b[39m \u001b[38;5;241m==\u001b[39m \u001b[38;5;124m\"\u001b[39m\u001b[38;5;124m__main__\u001b[39m\u001b[38;5;124m\"\u001b[39m:\n\u001b[1;32m     11\u001b[0m     \u001b[38;5;66;03m# Example points (replace with your own data)\u001b[39;00m\n\u001b[1;32m     12\u001b[0m     points \u001b[38;5;241m=\u001b[39m np\u001b[38;5;241m.\u001b[39marray([[\u001b[38;5;241m1\u001b[39m, \u001b[38;5;241m2\u001b[39m, \u001b[38;5;241m3\u001b[39m], [\u001b[38;5;241m4\u001b[39m, \u001b[38;5;241m5\u001b[39m, \u001b[38;5;241m6\u001b[39m], [\u001b[38;5;241m7\u001b[39m, \u001b[38;5;241m8\u001b[39m, \u001b[38;5;241m9\u001b[39m], [\u001b[38;5;241m2\u001b[39m, \u001b[38;5;241m3\u001b[39m, \u001b[38;5;241m4\u001b[39m]])\n\u001b[0;32m---> 14\u001b[0m     volume \u001b[38;5;241m=\u001b[39m \u001b[43mdominating_volume\u001b[49m\u001b[43m(\u001b[49m\u001b[43mpoints\u001b[49m\u001b[43m)\u001b[49m\n\u001b[1;32m     15\u001b[0m     \u001b[38;5;28mprint\u001b[39m(\u001b[38;5;124m\"\u001b[39m\u001b[38;5;124mDominating volume:\u001b[39m\u001b[38;5;124m\"\u001b[39m, volume)\n",
      "Cell \u001b[0;32mIn[14], line 7\u001b[0m, in \u001b[0;36mdominating_volume\u001b[0;34m(points)\u001b[0m\n\u001b[1;32m      4\u001b[0m \u001b[38;5;28;01mdef\u001b[39;00m \u001b[38;5;21mdominating_volume\u001b[39m(points):\n\u001b[1;32m      5\u001b[0m \u001b[38;5;250m    \u001b[39m\u001b[38;5;124;03m\"\"\"Calculates the 3D dominating volume of a set of points.\"\"\"\u001b[39;00m\n\u001b[0;32m----> 7\u001b[0m     hull \u001b[38;5;241m=\u001b[39m \u001b[43mConvexHull\u001b[49m\u001b[43m(\u001b[49m\u001b[43mpoints\u001b[49m\u001b[43m)\u001b[49m\n\u001b[1;32m      8\u001b[0m     \u001b[38;5;28;01mreturn\u001b[39;00m hull\u001b[38;5;241m.\u001b[39mvolume\n",
      "File \u001b[0;32m_qhull.pyx:2489\u001b[0m, in \u001b[0;36mscipy.spatial._qhull.ConvexHull.__init__\u001b[0;34m()\u001b[0m\n",
      "File \u001b[0;32m_qhull.pyx:352\u001b[0m, in \u001b[0;36mscipy.spatial._qhull._Qhull.__init__\u001b[0;34m()\u001b[0m\n",
      "\u001b[0;31mQhullError\u001b[0m: QH6154 Qhull precision error: Initial simplex is flat (facet 1 is coplanar with the interior point)\n\nWhile executing:  | qhull i Qt\nOptions selected for Qhull 2019.1.r 2019/06/21:\n  run-id 1636645736  incidence  Qtriangulate  _pre-merge  _zero-centrum\n  _max-width  6  Error-roundoff 1.2e-14  _one-merge 8.7e-14\n  _near-inside 4.4e-13  Visible-distance 2.5e-14  U-max-coplanar 2.5e-14\n  Width-outside 5e-14  _wide-facet 1.5e-13  _maxoutside 1e-13\n\nprecision problems (corrected unless 'Q0' or an error)\n      4 degenerate hyperplanes recomputed with gaussian elimination\n      4 nearly singular or axis-parallel hyperplanes\n      4 zero divisors during back substitute\n      4 zero divisors during gaussian elimination\n\nThe input to qhull appears to be less than 3 dimensional, or a\ncomputation has overflowed.\n\nQhull could not construct a clearly convex simplex from points:\n- p3(v4):     2     3     4\n- p1(v3):     4     5     6\n- p2(v2):     7     8     9\n- p0(v1):     1     2     3\n\nThe center point is coplanar with a facet, or a vertex is coplanar\nwith a neighboring facet.  The maximum round off error for\ncomputing distances is 1.2e-14.  The center point, facets and distances\nto the center point are as follows:\n\ncenter point      3.5      4.5      5.5\n\nfacet p1 p2 p0 distance= -4.4e-16\nfacet p3 p2 p0 distance= -4.4e-16\nfacet p3 p1 p0 distance= -4.4e-16\nfacet p3 p1 p2 distance= -4.4e-16\n\nThese points either have a maximum or minimum x-coordinate, or\nthey maximize the determinant for k coordinates.  Trial points\nare first selected from points that maximize a coordinate.\n\nThe min and max coordinates for each dimension are:\n  0:         1         7  difference=    6\n  1:         2         8  difference=    6\n  2:         3         9  difference=    6\n\nIf the input should be full dimensional, you have several options that\nmay determine an initial simplex:\n  - use 'QJ'  to joggle the input and make it full dimensional\n  - use 'QbB' to scale the points to the unit cube\n  - use 'QR0' to randomly rotate the input for different maximum points\n  - use 'Qs'  to search all points for the initial simplex\n  - use 'En'  to specify a maximum roundoff error less than 1.2e-14.\n  - trace execution with 'T3' to see the determinant for each point.\n\nIf the input is lower dimensional:\n  - use 'QJ' to joggle the input and make it full dimensional\n  - use 'Qbk:0Bk:0' to delete coordinate k from the input.  You should\n    pick the coordinate with the least range.  The hull will have the\n    correct topology.\n  - determine the flat containing the points, rotate the points\n    into a coordinate plane, and delete the other coordinates.\n  - add one or more points to make the input full dimensional.\n"
     ]
    }
   ],
   "source": [
    "\n",
    "\n",
    "\n",
    "import numpy as np\n",
    "from scipy.spatial import ConvexHull\n",
    "\n",
    "def dominating_volume(points):\n",
    "    \"\"\"Calculates the 3D dominating volume of a set of points.\"\"\"\n",
    "\n",
    "    hull = ConvexHull(points)\n",
    "    return hull.volume\n",
    "\n",
    "if __name__ == \"__main__\":\n",
    "    # Example points (replace with your own data)\n",
    "    points = np.array([[1, 2, 3], [4, 5, 6], [7, 8, 9], [2, 3, 4]])\n",
    "\n",
    "    volume = dominating_volume(points)\n",
    "    print(\"Dominating volume:\", volume)"
   ]
  },
  {
   "cell_type": "code",
   "execution_count": 10,
   "metadata": {},
   "outputs": [
    {
     "data": {
      "text/plain": [
       "0.14400000000000002"
      ]
     },
     "execution_count": 10,
     "metadata": {},
     "output_type": "execute_result"
    }
   ],
   "source": [
    "0.9*0.8*0.2"
   ]
  },
  {
   "cell_type": "code",
   "execution_count": 8,
   "metadata": {},
   "outputs": [
    {
     "data": {
      "text/plain": [
       "tensor([[0.3656, 0.0426, 0.8780],\n",
       "        [0.3172, 0.8009, 0.8128],\n",
       "        [0.8329, 0.3663, 0.2522],\n",
       "        [0.8224, 0.9843, 0.6153],\n",
       "        [0.9936, 0.8647, 0.2721]])"
      ]
     },
     "execution_count": 8,
     "metadata": {},
     "output_type": "execute_result"
    }
   ],
   "source": [
    "pareto_front"
   ]
  },
  {
   "cell_type": "code",
   "execution_count": 1,
   "metadata": {},
   "outputs": [],
   "source": [
    "a = {'good':2, 'bad':3}"
   ]
  },
  {
   "cell_type": "code",
   "execution_count": 2,
   "metadata": {},
   "outputs": [
    {
     "data": {
      "text/plain": [
       "2"
      ]
     },
     "execution_count": 2,
     "metadata": {},
     "output_type": "execute_result"
    }
   ],
   "source": [
    "len(a)"
   ]
  },
  {
   "cell_type": "code",
   "execution_count": 18,
   "metadata": {},
   "outputs": [],
   "source": [
    "from transformers import GPT2LMHeadModel, GPT2TokenizerFast\n",
    "\n",
    "device = \"cpu\"\n",
    "model_id = \"openai-community/gpt2-large\"\n",
    "model = GPT2LMHeadModel.from_pretrained(model_id).to(device)\n",
    "tokenizer = GPT2TokenizerFast.from_pretrained(model_id)"
   ]
  },
  {
   "cell_type": "code",
   "execution_count": 19,
   "metadata": {},
   "outputs": [
    {
     "name": "stderr",
     "output_type": "stream",
     "text": [
      "Generating test split: 100%|██████████| 4358/4358 [00:00<00:00, 71904.24 examples/s]\n",
      "Generating train split: 100%|██████████| 36718/36718 [00:00<00:00, 586910.37 examples/s]\n",
      "Generating validation split: 100%|██████████| 3760/3760 [00:00<00:00, 389108.88 examples/s]\n",
      "Token indices sequence length is longer than the specified maximum sequence length for this model (287644 > 1024). Running this sequence through the model will result in indexing errors\n"
     ]
    }
   ],
   "source": [
    "from datasets import load_dataset\n",
    "\n",
    "test = load_dataset(\"wikitext\", \"wikitext-2-raw-v1\", split=\"test\")\n",
    "encodings = tokenizer(\"\\n\\n\".join(test[\"text\"]), return_tensors=\"pt\")"
   ]
  },
  {
   "cell_type": "code",
   "execution_count": 24,
   "metadata": {},
   "outputs": [
    {
     "name": "stderr",
     "output_type": "stream",
     "text": [
      " 98%|█████████▊| 56/57 [02:58<00:03,  3.19s/it]\n"
     ]
    }
   ],
   "source": [
    "import torch\n",
    "from tqdm import tqdm\n",
    "\n",
    "max_length = model.config.n_positions\n",
    "stride = 5120\n",
    "seq_len = encodings.input_ids.size(1)\n",
    "\n",
    "nlls = []\n",
    "prev_end_loc = 0\n",
    "for begin_loc in tqdm(range(0, seq_len, stride)):\n",
    "    end_loc = min(begin_loc + max_length, seq_len)\n",
    "    trg_len = end_loc - prev_end_loc  # may be different from stride on last loop\n",
    "    input_ids = encodings.input_ids[:, begin_loc:end_loc].to(device)\n",
    "    target_ids = input_ids.clone()\n",
    "    target_ids[:, :-trg_len] = -100\n",
    "\n",
    "    with torch.no_grad():\n",
    "        outputs = model(input_ids, labels=target_ids)\n",
    "\n",
    "        # loss is calculated using CrossEntropyLoss which averages over valid labels\n",
    "        # N.B. the model only calculates loss over trg_len - 1 labels, because it internally shifts the labels\n",
    "        # to the left by 1.\n",
    "        neg_log_likelihood = outputs.loss\n",
    "\n",
    "    nlls.append(neg_log_likelihood)\n",
    "\n",
    "    prev_end_loc = end_loc\n",
    "    if end_loc == seq_len:\n",
    "        break\n",
    "\n",
    "ppl = torch.exp(torch.stack(nlls).mean())"
   ]
  },
  {
   "cell_type": "code",
   "execution_count": 26,
   "metadata": {},
   "outputs": [
    {
     "data": {
      "text/plain": [
       "[tensor(2.4563),\n",
       " tensor(3.2130),\n",
       " tensor(2.8298),\n",
       " tensor(3.1584),\n",
       " tensor(2.8602),\n",
       " tensor(3.0615),\n",
       " tensor(3.4675),\n",
       " tensor(2.8435),\n",
       " tensor(3.3761),\n",
       " tensor(3.2331),\n",
       " tensor(3.3443),\n",
       " tensor(2.6687),\n",
       " tensor(2.5851),\n",
       " tensor(2.6306),\n",
       " tensor(2.2679),\n",
       " tensor(2.2570),\n",
       " tensor(3.4688),\n",
       " tensor(3.1651),\n",
       " tensor(3.1864),\n",
       " tensor(2.9431),\n",
       " tensor(2.8955),\n",
       " tensor(2.7686),\n",
       " tensor(2.8608),\n",
       " tensor(3.1048),\n",
       " tensor(3.1405),\n",
       " tensor(2.4870),\n",
       " tensor(2.5494),\n",
       " tensor(2.4721),\n",
       " tensor(2.9212),\n",
       " tensor(3.0260),\n",
       " tensor(2.8389),\n",
       " tensor(3.2759),\n",
       " tensor(2.5990),\n",
       " tensor(2.6903),\n",
       " tensor(2.9425),\n",
       " tensor(3.5460),\n",
       " tensor(3.0721),\n",
       " tensor(2.6845),\n",
       " tensor(3.0366),\n",
       " tensor(2.9020),\n",
       " tensor(3.0449),\n",
       " tensor(3.5175),\n",
       " tensor(2.8849),\n",
       " tensor(2.8323),\n",
       " tensor(3.3599),\n",
       " tensor(2.9644),\n",
       " tensor(3.0535),\n",
       " tensor(2.7922),\n",
       " tensor(3.0178),\n",
       " tensor(3.0856),\n",
       " tensor(2.6764),\n",
       " tensor(2.9691),\n",
       " tensor(2.5791),\n",
       " tensor(1.8262),\n",
       " tensor(3.3218),\n",
       " tensor(2.8275),\n",
       " tensor(2.8636)]"
      ]
     },
     "execution_count": 26,
     "metadata": {},
     "output_type": "execute_result"
    }
   ],
   "source": [
    "nlls"
   ]
  },
  {
   "cell_type": "code",
   "execution_count": 25,
   "metadata": {},
   "outputs": [
    {
     "data": {
      "text/plain": [
       "tensor(18.5434)"
      ]
     },
     "execution_count": 25,
     "metadata": {},
     "output_type": "execute_result"
    }
   ],
   "source": [
    "ppl"
   ]
  },
  {
   "cell_type": "code",
   "execution_count": 17,
   "metadata": {},
   "outputs": [
    {
     "name": "stderr",
     "output_type": "stream",
     "text": [
      "Some weights of the model checkpoint at textattack/roberta-base-CoLA were not used when initializing RobertaForSequenceClassification: ['roberta.pooler.dense.bias', 'roberta.pooler.dense.weight']\n",
      "- This IS expected if you are initializing RobertaForSequenceClassification from the checkpoint of a model trained on another task or with another architecture (e.g. initializing a BertForSequenceClassification model from a BertForPreTraining model).\n",
      "- This IS NOT expected if you are initializing RobertaForSequenceClassification from the checkpoint of a model that you expect to be exactly identical (initializing a BertForSequenceClassification model from a BertForSequenceClassification model).\n",
      "Hardware accelerator e.g. GPU is available in the environment, but no `device` argument is passed to the `Pipeline` object. Model will be on CPU.\n"
     ]
    },
    {
     "name": "stdout",
     "output_type": "stream",
     "text": [
      "[{'label': 'LABEL_1', 'score': 0.6973828673362732}]\n"
     ]
    }
   ],
   "source": [
    "from transformers import pipeline\n",
    "\n",
    "# Load the TextAttack CoLA RoBERTa model\n",
    "classifier = pipeline(\"text-classification\", model=\"textattack/roberta-base-CoLA\")\n",
    "\n",
    "# Test with a sentence\n",
    "sentence = \"afha;i apoifjap efn; paoijfjnpe f; p;infaie f\"\n",
    "result = classifier(sentence)\n",
    "\n",
    "print(result)"
   ]
  },
  {
   "cell_type": "code",
   "execution_count": 1,
   "metadata": {},
   "outputs": [
    {
     "name": "stderr",
     "output_type": "stream",
     "text": [
      "/global/homes/g/gzhao27/anaconda3/envs/Prompt/lib/python3.12/site-packages/tqdm/auto.py:21: TqdmWarning: IProgress not found. Please update jupyter and ipywidgets. See https://ipywidgets.readthedocs.io/en/stable/user_install.html\n",
      "  from .autonotebook import tqdm as notebook_tqdm\n"
     ]
    }
   ],
   "source": [
    "import torch\n",
    "import numpy as np\n",
    "from transformers import AutoTokenizer, AutoModelForMaskedLM, GPT2LMHeadModel, AutoModelForSequenceClassification, GPT2Tokenizer\n",
    "from typing import List, Dict, Optional, Tuple, Union, Any\n",
    "from collections import defaultdict\n",
    "from rlprompt.rewards import BaseReward\n",
    "\n",
    "SUPPORTED_LEFT_TO_RIGHT_LMS = ['distilgpt2', 'gpt2', 'gpt2-medium',\n",
    "                               'gpt2-large', 'gpt2-xl']\n",
    "SUPPORTED_MASK_LMS = ['distilroberta-base', 'roberta-base', 'roberta-large']\n",
    "\n",
    "# def perplexity_calculate2(input_text):\n",
    "#     model_name = \"gpt2\"\n",
    "#     tokenizer = GPT2Tokenizer.from_pretrained(model_name)\n",
    "#     model = GPT2LMHeadModel.from_pretrained(model_name)\n",
    "\n",
    "#     # Set the model to evaluation mode\n",
    "#     model.eval()\n",
    "\n",
    "#     # Tokenize the input\n",
    "#     input_ids = tokenizer.encode(input_text, return_tensors=\"pt\")\n",
    "\n",
    "#     # Get the model's output (logits and loss)\n",
    "#     with torch.no_grad():\n",
    "#         outputs = model(input_ids, labels=input_ids)\n",
    "#         loss = outputs.loss\n",
    "\n",
    "#     # Calculate perplexity\n",
    "#     perplexity = torch.exp(loss)\n",
    "#     return perplexity\n",
    "\n",
    "\n",
    "# model_name_p = \"textattack/roberta-base-CoLA\"\n",
    "# tokenizer_p = AutoTokenizer.from_pretrained(model_name_p)\n",
    "# model_p = AutoModelForSequenceClassification.from_pretrained(model_name_p)\n",
    "# model_p.eval()\n",
    "\n",
    "def perplexity_calculate(input_text, model_name_p, model_p, tokenizer_p):\n",
    "\n",
    "    \n",
    "    if model_name_p == \"textattack/roberta-base-CoLA\":\n",
    "        # Input sentence\n",
    "        sentence = input_text\n",
    "\n",
    "        # Tokenize input\n",
    "        inputs = tokenizer_p(sentence, return_tensors=\"pt\")\n",
    "        with torch.no_grad():\n",
    "            outputs = model_p(**inputs)\n",
    "\n",
    "            # Get prediction (logits)\n",
    "            logits = outputs.logits\n",
    "            probabilities = torch.softmax(logits, dim=-1)\n",
    "\n",
    "        # Probability that the sentence is acceptable\n",
    "        acceptability_score = probabilities[0][1].item()\n",
    "        return torch.tensor(acceptability_score)\n",
    "    \n",
    "    elif model_name_p == \"gpt2\":\n",
    "        input_ids = tokenizer_p.encode(input_text, return_tensors=\"pt\")\n",
    "\n",
    "        # Get the model's output (logits and loss)\n",
    "        with torch.no_grad():\n",
    "            outputs = model_p(input_ids, labels=input_ids)\n",
    "            loss = outputs.loss\n",
    "\n",
    "        # Calculate perplexity\n",
    "        perplexity = torch.log(loss)\n",
    "        return perplexity"
   ]
  },
  {
   "cell_type": "code",
   "execution_count": 2,
   "metadata": {},
   "outputs": [
    {
     "name": "stderr",
     "output_type": "stream",
     "text": [
      "Some weights of the model checkpoint at textattack/roberta-base-CoLA were not used when initializing RobertaForSequenceClassification: ['roberta.pooler.dense.bias', 'roberta.pooler.dense.weight']\n",
      "- This IS expected if you are initializing RobertaForSequenceClassification from the checkpoint of a model trained on another task or with another architecture (e.g. initializing a BertForSequenceClassification model from a BertForPreTraining model).\n",
      "- This IS NOT expected if you are initializing RobertaForSequenceClassification from the checkpoint of a model that you expect to be exactly identical (initializing a BertForSequenceClassification model from a BertForSequenceClassification model).\n"
     ]
    },
    {
     "data": {
      "text/plain": [
       "RobertaForSequenceClassification(\n",
       "  (roberta): RobertaModel(\n",
       "    (embeddings): RobertaEmbeddings(\n",
       "      (word_embeddings): Embedding(50265, 768, padding_idx=1)\n",
       "      (position_embeddings): Embedding(514, 768, padding_idx=1)\n",
       "      (token_type_embeddings): Embedding(1, 768)\n",
       "      (LayerNorm): LayerNorm((768,), eps=1e-05, elementwise_affine=True)\n",
       "      (dropout): Dropout(p=0.1, inplace=False)\n",
       "    )\n",
       "    (encoder): RobertaEncoder(\n",
       "      (layer): ModuleList(\n",
       "        (0-11): 12 x RobertaLayer(\n",
       "          (attention): RobertaAttention(\n",
       "            (self): RobertaSelfAttention(\n",
       "              (query): Linear(in_features=768, out_features=768, bias=True)\n",
       "              (key): Linear(in_features=768, out_features=768, bias=True)\n",
       "              (value): Linear(in_features=768, out_features=768, bias=True)\n",
       "              (dropout): Dropout(p=0.1, inplace=False)\n",
       "            )\n",
       "            (output): RobertaSelfOutput(\n",
       "              (dense): Linear(in_features=768, out_features=768, bias=True)\n",
       "              (LayerNorm): LayerNorm((768,), eps=1e-05, elementwise_affine=True)\n",
       "              (dropout): Dropout(p=0.1, inplace=False)\n",
       "            )\n",
       "          )\n",
       "          (intermediate): RobertaIntermediate(\n",
       "            (dense): Linear(in_features=768, out_features=3072, bias=True)\n",
       "            (intermediate_act_fn): GELUActivation()\n",
       "          )\n",
       "          (output): RobertaOutput(\n",
       "            (dense): Linear(in_features=3072, out_features=768, bias=True)\n",
       "            (LayerNorm): LayerNorm((768,), eps=1e-05, elementwise_affine=True)\n",
       "            (dropout): Dropout(p=0.1, inplace=False)\n",
       "          )\n",
       "        )\n",
       "      )\n",
       "    )\n",
       "  )\n",
       "  (classifier): RobertaClassificationHead(\n",
       "    (dense): Linear(in_features=768, out_features=768, bias=True)\n",
       "    (dropout): Dropout(p=0.1, inplace=False)\n",
       "    (out_proj): Linear(in_features=768, out_features=2, bias=True)\n",
       "  )\n",
       ")"
      ]
     },
     "execution_count": 2,
     "metadata": {},
     "output_type": "execute_result"
    }
   ],
   "source": [
    "model_name_p = \"textattack/roberta-base-CoLA\"\n",
    "tokenizer_p = AutoTokenizer.from_pretrained(model_name_p)\n",
    "model_p = AutoModelForSequenceClassification.from_pretrained(model_name_p)\n",
    "model_p.eval()"
   ]
  },
  {
   "cell_type": "code",
   "execution_count": 3,
   "metadata": {},
   "outputs": [],
   "source": [
    "model_name = \"gpt2\"\n",
    "tokenizer = GPT2Tokenizer.from_pretrained(model_name)\n",
    "model = GPT2LMHeadModel.from_pretrained(model_name)"
   ]
  },
  {
   "cell_type": "code",
   "execution_count": 4,
   "metadata": {},
   "outputs": [],
   "source": [
    "with open(\"/pscratch/sd/g/gzhao27/rl-prompt/examples/few-shot-classification/string_record.txt\", 'r') as f:\n",
    "    lines = f.readlines()"
   ]
  },
  {
   "cell_type": "code",
   "execution_count": 5,
   "metadata": {},
   "outputs": [],
   "source": [
    "value1 = []\n",
    "value2 = []\n",
    "i = 0\n",
    "for line in lines:\n",
    "    v1 = perplexity_calculate(line, model_name_p, model_p, tokenizer_p)\n",
    "    v2 = perplexity_calculate(line, model_name, model, tokenizer)\n",
    "    value1.append(v1)\n",
    "    value2.append(v2)\n",
    "    i+=1\n",
    "    if i > 1000:\n",
    "        break"
   ]
  },
  {
   "cell_type": "code",
   "execution_count": 6,
   "metadata": {},
   "outputs": [],
   "source": [
    "value3 = []\n",
    "for a in value2:\n",
    "    value3.append(torch.exp(a))"
   ]
  },
  {
   "cell_type": "code",
   "execution_count": 7,
   "metadata": {},
   "outputs": [],
   "source": [
    "value4 = []\n",
    "for a in value3:\n",
    "    value4.append(torch.exp(a))"
   ]
  },
  {
   "cell_type": "code",
   "execution_count": 13,
   "metadata": {},
   "outputs": [
    {
     "data": {
      "image/png": "[encoded data removed]",
      "text/plain": [
       "<Figure size 640x480 with 1 Axes>"
      ]
     },
     "metadata": {},
     "output_type": "display_data"
    }
   ],
   "source": [
    "import matplotlib.pyplot as plt\n",
    "plt.scatter(value1, value4)\n",
    "plt.xlabel('Linguistic Acceptability Score (CoLA)')\n",
    "plt.ylabel('Perplexity (GPT2)')\n",
    "plt.yscale('log')\n",
    "# plt.ylim(0, 00)"
   ]
  },
  {
   "cell_type": "code",
   "execution_count": 17,
   "metadata": {},
   "outputs": [
    {
     "name": "stdout",
     "output_type": "stream",
     "text": [
      "Spearman's Rank Correlation Coefficient: -0.4739961656844198\n",
      "p-value: 3.3317966863192103e-57\n"
     ]
    }
   ],
   "source": [
    "from scipy.stats import spearmanr\n",
    "\n",
    "# Calculate Spearman's Rank Correlation Coefficient\n",
    "corr_coefficient, p_value = spearmanr(value1, value4)\n",
    "\n",
    "# Print results\n",
    "print(\"Spearman's Rank Correlation Coefficient:\", corr_coefficient)\n",
    "print(\"p-value:\", p_value)"
   ]
  },
  {
   "cell_type": "code",
   "execution_count": 25,
   "metadata": {},
   "outputs": [
    {
     "name": "stdout",
     "output_type": "stream",
     "text": [
      "Correlation coefficient: -0.26829822221327715\n",
      "p-value: 5.7806314e-18\n"
     ]
    }
   ],
   "source": [
    "from scipy.stats import pearsonr\n",
    "correlation, p_value = pearsonr(value1, value4)\n",
    "correlation = np.corrcoef(value1, value4)[0, 1]\n",
    "print(\"Correlation coefficient:\", correlation)\n",
    "print(\"p-value:\", p_value)"
   ]
  },
  {
   "cell_type": "code",
   "execution_count": null,
   "metadata": {},
   "outputs": [],
   "source": []
  },
  {
   "cell_type": "code",
   "execution_count": 16,
   "metadata": {},
   "outputs": [
    {
     "name": "stderr",
     "output_type": "stream",
     "text": [
      "huggingface/tokenizers: The current process just got forked, after parallelism has already been used. Disabling parallelism to avoid deadlocks...\n",
      "To disable this warning, you can either:\n",
      "\t- Avoid using `tokenizers` before the fork if possible\n",
      "\t- Explicitly set the environment variable TOKENIZERS_PARALLELISM=(true | false)\n"
     ]
    },
    {
     "name": "stdout",
     "output_type": "stream",
     "text": [
      "Looking in indexes: https://pypi.org/simple, https://pypi.ngc.nvidia.com\n",
      "Collecting scipy\n",
      "  Downloading scipy-1.14.1-cp312-cp312-manylinux_2_17_x86_64.manylinux2014_x86_64.whl.metadata (60 kB)\n",
      "\u001b[2K     \u001b[90m━━━━━━━━━━━━━━━━━━━━━━━━━━━━━━━━━━━━━━━━\u001b[0m \u001b[32m60.8/60.8 kB\u001b[0m \u001b[31m2.7 MB/s\u001b[0m eta \u001b[36m0:00:00\u001b[0m\n",
      "\u001b[?25hRequirement already satisfied: numpy<2.3,>=1.23.5 in /global/homes/g/gzhao27/anaconda3/envs/Prompt/lib/python3.12/site-packages (from scipy) (1.26.4)\n",
      "Downloading scipy-1.14.1-cp312-cp312-manylinux_2_17_x86_64.manylinux2014_x86_64.whl (40.8 MB)\n",
      "\u001b[2K   \u001b[90m━━━━━━━━━━━━━━━━━━━━━━━━━━━━━━━━━━━━━━━━\u001b[0m \u001b[32m40.8/40.8 MB\u001b[0m \u001b[31m225.2 MB/s\u001b[0m eta \u001b[36m0:00:00\u001b[0ma \u001b[36m0:00:01\u001b[0m\n",
      "\u001b[?25hInstalling collected packages: scipy\n",
      "Successfully installed scipy-1.14.1\n"
     ]
    }
   ],
   "source": [
    "!pip install scipy"
   ]
  },
  {
   "cell_type": "code",
   "execution_count": 14,
   "metadata": {},
   "outputs": [
    {
     "data": {
      "text/plain": [
       "<Figure size 640x480 with 0 Axes>"
      ]
     },
     "metadata": {},
     "output_type": "display_data"
    }
   ],
   "source": [
    "plt.savefig('LAS-perplexity.pdf', bbox_inches='tight')"
   ]
  },
  {
   "cell_type": "code",
   "execution_count": 26,
   "metadata": {},
   "outputs": [],
   "source": [
    "a = {'a':3}"
   ]
  },
  {
   "cell_type": "code",
   "execution_count": 27,
   "metadata": {},
   "outputs": [
    {
     "data": {
      "text/plain": [
       "True"
      ]
     },
     "execution_count": 27,
     "metadata": {},
     "output_type": "execute_result"
    }
   ],
   "source": [
    "bool(a)"
   ]
  },
  {
   "cell_type": "code",
   "execution_count": 21,
   "metadata": {},
   "outputs": [],
   "source": [
    "a[2] = 2"
   ]
  },
  {
   "cell_type": "code",
   "execution_count": 22,
   "metadata": {},
   "outputs": [
    {
     "data": {
      "text/plain": [
       "tensor([2.0000, 0.4197, 0.6587, 0.3655, 0.6452])"
      ]
     },
     "execution_count": 22,
     "metadata": {},
     "output_type": "execute_result"
    }
   ],
   "source": [
    "b"
   ]
  },
  {
   "cell_type": "code",
   "execution_count": 19,
   "metadata": {},
   "outputs": [],
   "source": [
    "b = a.clone()"
   ]
  },
  {
   "cell_type": "code",
   "execution_count": 16,
   "metadata": {},
   "outputs": [],
   "source": [
    "my_dict = {'key1': 'value1', 'key2': 'value2'}\n",
    "object1_value, object2_value = my_dict.values()"
   ]
  },
  {
   "cell_type": "code",
   "execution_count": 17,
   "metadata": {},
   "outputs": [],
   "source": [
    "key1, key2 = my_dict.keys()"
   ]
  },
  {
   "cell_type": "code",
   "execution_count": 18,
   "metadata": {},
   "outputs": [
    {
     "data": {
      "text/plain": [
       "'key1'"
      ]
     },
     "execution_count": 18,
     "metadata": {},
     "output_type": "execute_result"
    }
   ],
   "source": [
    "key1"
   ]
  },
  {
   "cell_type": "code",
   "execution_count": 3,
   "metadata": {},
   "outputs": [
    {
     "name": "stderr",
     "output_type": "stream",
     "text": [
      "Some weights of the model checkpoint at textattack/roberta-base-CoLA were not used when initializing RobertaForSequenceClassification: ['roberta.pooler.dense.bias', 'roberta.pooler.dense.weight']\n",
      "- This IS expected if you are initializing RobertaForSequenceClassification from the checkpoint of a model trained on another task or with another architecture (e.g. initializing a BertForSequenceClassification model from a BertForPreTraining model).\n",
      "- This IS NOT expected if you are initializing RobertaForSequenceClassification from the checkpoint of a model that you expect to be exactly identical (initializing a BertForSequenceClassification model from a BertForSequenceClassification model).\n"
     ]
    },
    {
     "name": "stdout",
     "output_type": "stream",
     "text": [
      "Grammatical correctness score: 0.1069\n"
     ]
    }
   ],
   "source": [
    "from transformers import AutoTokenizer, AutoModelForSequenceClassification\n",
    "import torch\n",
    "\n",
    "model_name = \"textattack/roberta-base-CoLA\"\n",
    "tokenizer = AutoTokenizer.from_pretrained(model_name)\n",
    "model = AutoModelForSequenceClassification.from_pretrained(model_name)\n",
    "\n",
    "# Input sentence\n",
    "sentence = \"METHODSpawnrolog)</ condem\"\n",
    "\n",
    "# Tokenize input\n",
    "inputs = tokenizer(sentence, return_tensors=\"pt\")\n",
    "outputs = model(**inputs)\n",
    "\n",
    "# Get prediction (logits)\n",
    "logits = outputs.logits\n",
    "probabilities = torch.softmax(logits, dim=-1)\n",
    "\n",
    "# Probability that the sentence is acceptable\n",
    "acceptability_score = probabilities[0][1].item()\n",
    "print(f\"Grammatical correctness score: {acceptability_score:.4f}\")\n"
   ]
  },
  {
   "cell_type": "code",
   "execution_count": 4,
   "metadata": {},
   "outputs": [],
   "source": [
    "def perplexity_calculate(input_text):\n",
    "\n",
    "    model_name = \"textattack/roberta-base-CoLA\"\n",
    "    tokenizer = AutoTokenizer.from_pretrained(model_name)\n",
    "    model = AutoModelForSequenceClassification.from_pretrained(model_name)\n",
    "\n",
    "    # Input sentence\n",
    "    sentence = input_text\n",
    "\n",
    "    # Tokenize input\n",
    "    inputs = tokenizer(sentence, return_tensors=\"pt\")\n",
    "    outputs = model(**inputs)\n",
    "\n",
    "    # Get prediction (logits)\n",
    "    logits = outputs.logits\n",
    "    probabilities = torch.softmax(logits, dim=-1)\n",
    "\n",
    "    # Probability that the sentence is acceptable\n",
    "    acceptability_score = probabilities[0][1].item()\n",
    "    return acceptability_score"
   ]
  },
  {
   "cell_type": "code",
   "execution_count": 7,
   "metadata": {},
   "outputs": [
    {
     "name": "stderr",
     "output_type": "stream",
     "text": [
      "Some weights of the model checkpoint at textattack/roberta-base-CoLA were not used when initializing RobertaForSequenceClassification: ['roberta.pooler.dense.bias', 'roberta.pooler.dense.weight']\n",
      "- This IS expected if you are initializing RobertaForSequenceClassification from the checkpoint of a model trained on another task or with another architecture (e.g. initializing a BertForSequenceClassification model from a BertForPreTraining model).\n",
      "- This IS NOT expected if you are initializing RobertaForSequenceClassification from the checkpoint of a model that you expect to be exactly identical (initializing a BertForSequenceClassification model from a BertForSequenceClassification model).\n"
     ]
    },
    {
     "data": {
      "text/plain": [
       "0.5012895464897156"
      ]
     },
     "execution_count": 7,
     "metadata": {},
     "output_type": "execute_result"
    }
   ],
   "source": [
    "perplexity_calculate('aerjnje i;qeir h dakfhqei')"
   ]
  },
  {
   "cell_type": "code",
   "execution_count": 1,
   "metadata": {},
   "outputs": [
    {
     "name": "stderr",
     "output_type": "stream",
     "text": [
      "/global/homes/g/gzhao27/anaconda3/envs/Prompt/lib/python3.12/site-packages/tqdm/auto.py:21: TqdmWarning: IProgress not found. Please update jupyter and ipywidgets. See https://ipywidgets.readthedocs.io/en/stable/user_install.html\n",
      "  from .autonotebook import tqdm as notebook_tqdm\n"
     ]
    }
   ],
   "source": [
    "import torch\n",
    "from transformers import RobertaForMaskedLM, AutoTokenizer, AutoConfig\n",
    "\n",
    "class Perplexity(object):\n",
    "    def __init__(self, model=\"roberta-base\", device=\"cuda\"):\n",
    "        assert model, \"The model must not be None\"\n",
    "        self.device = torch.device('cuda')\n",
    "        pretrained_config = AutoConfig.from_pretrained(model)\n",
    "\n",
    "        self.tokenizer = AutoTokenizer.from_pretrained(model)\n",
    "        self.mlm = RobertaForMaskedLM(pretrained_config).to(self.device)\n",
    "\n",
    "    def calculate_perplexity(self, prompt):\n",
    "        inputs = self.tokenizer(\n",
    "            str(prompt), return_tensors=\"pt\", truncation=True, padding=True\n",
    "        )\n",
    "        inputs = inputs.to(self.device)\n",
    "        with torch.no_grad():\n",
    "            outputs = self.mlm(**inputs, labels=inputs[\"input_ids\"])\n",
    "            loss = outputs.loss\n",
    "            # perplexity = torch.exp(loss)\n",
    "            perplexity = torch.exp(loss / inputs[\"input_ids\"].size(1))\n",
    "\n",
    "        return perplexity.item()"
   ]
  },
  {
   "cell_type": "code",
   "execution_count": 3,
   "metadata": {},
   "outputs": [],
   "source": []
  },
  {
   "cell_type": "code",
   "execution_count": 5,
   "metadata": {},
   "outputs": [],
   "source": [
    "pe = Perplexity()\n",
    "perplexity_calculate = pe.calculate_perplexity"
   ]
  },
  {
   "cell_type": "code",
   "execution_count": 34,
   "metadata": {},
   "outputs": [
    {
     "name": "stderr",
     "output_type": "stream",
     "text": [
      "huggingface/tokenizers: The current process just got forked, after parallelism has already been used. Disabling parallelism to avoid deadlocks...\n",
      "To disable this warning, you can either:\n",
      "\t- Avoid using `tokenizers` before the fork if possible\n",
      "\t- Explicitly set the environment variable TOKENIZERS_PARALLELISM=(true | false)\n"
     ]
    },
    {
     "name": "stdout",
     "output_type": "stream",
     "text": [
      "Looking in indexes: https://pypi.org/simple, https://pypi.ngc.nvidia.com\n",
      "Collecting optimum[onnxruntime-gpu]\n",
      "  Downloading optimum-1.22.0-py3-none-any.whl.metadata (20 kB)\n",
      "Collecting coloredlogs (from optimum[onnxruntime-gpu])\n",
      "  Downloading coloredlogs-15.0.1-py2.py3-none-any.whl.metadata (12 kB)\n",
      "Requirement already satisfied: sympy in /global/homes/g/gzhao27/anaconda3/envs/Prompt/lib/python3.12/site-packages (from optimum[onnxruntime-gpu]) (1.13.0)\n",
      "Requirement already satisfied: transformers<4.45.0,>=4.29 in /global/homes/g/gzhao27/anaconda3/envs/Prompt/lib/python3.12/site-packages (from transformers[sentencepiece]<4.45.0,>=4.29->optimum[onnxruntime-gpu]) (4.42.3)\n",
      "Requirement already satisfied: torch>=1.11 in /global/homes/g/gzhao27/anaconda3/envs/Prompt/lib/python3.12/site-packages (from optimum[onnxruntime-gpu]) (2.3.1)\n",
      "Requirement already satisfied: packaging in /global/homes/g/gzhao27/anaconda3/envs/Prompt/lib/python3.12/site-packages (from optimum[onnxruntime-gpu]) (24.1)\n",
      "Requirement already satisfied: numpy<2.0 in /global/homes/g/gzhao27/anaconda3/envs/Prompt/lib/python3.12/site-packages (from optimum[onnxruntime-gpu]) (1.26.4)\n",
      "Requirement already satisfied: huggingface-hub>=0.8.0 in /global/homes/g/gzhao27/anaconda3/envs/Prompt/lib/python3.12/site-packages (from optimum[onnxruntime-gpu]) (0.23.4)\n",
      "Collecting datasets (from optimum[onnxruntime-gpu])\n",
      "  Downloading datasets-3.0.0-py3-none-any.whl.metadata (19 kB)\n",
      "Collecting onnx (from optimum[onnxruntime-gpu])\n",
      "  Downloading onnx-1.16.2-cp312-cp312-manylinux_2_17_x86_64.manylinux2014_x86_64.whl.metadata (16 kB)\n",
      "Collecting onnxruntime-gpu>=1.11.0 (from optimum[onnxruntime-gpu])\n",
      "  Downloading onnxruntime_gpu-1.19.2-cp312-cp312-manylinux_2_27_x86_64.manylinux_2_28_x86_64.whl.metadata (4.5 kB)\n",
      "Collecting evaluate (from optimum[onnxruntime-gpu])\n",
      "  Downloading evaluate-0.4.3-py3-none-any.whl.metadata (9.2 kB)\n",
      "Requirement already satisfied: protobuf>=3.20.1 in /global/homes/g/gzhao27/anaconda3/envs/Prompt/lib/python3.12/site-packages (from optimum[onnxruntime-gpu]) (5.27.2)\n",
      "Requirement already satisfied: accelerate in /global/homes/g/gzhao27/anaconda3/envs/Prompt/lib/python3.12/site-packages (from optimum[onnxruntime-gpu]) (0.34.2)\n",
      "Requirement already satisfied: filelock in /global/homes/g/gzhao27/anaconda3/envs/Prompt/lib/python3.12/site-packages (from datasets->optimum[onnxruntime-gpu]) (3.15.4)\n",
      "Collecting pyarrow>=15.0.0 (from datasets->optimum[onnxruntime-gpu])\n",
      "  Downloading pyarrow-17.0.0-cp312-cp312-manylinux_2_28_x86_64.whl.metadata (3.3 kB)\n",
      "Requirement already satisfied: dill<0.3.9,>=0.3.0 in /global/homes/g/gzhao27/anaconda3/envs/Prompt/lib/python3.12/site-packages (from datasets->optimum[onnxruntime-gpu]) (0.3.8)\n",
      "Requirement already satisfied: pandas in /global/homes/g/gzhao27/anaconda3/envs/Prompt/lib/python3.12/site-packages (from datasets->optimum[onnxruntime-gpu]) (2.2.2)\n",
      "Requirement already satisfied: requests>=2.32.2 in /global/homes/g/gzhao27/anaconda3/envs/Prompt/lib/python3.12/site-packages (from datasets->optimum[onnxruntime-gpu]) (2.32.3)\n",
      "Requirement already satisfied: tqdm>=4.66.3 in /global/homes/g/gzhao27/anaconda3/envs/Prompt/lib/python3.12/site-packages (from datasets->optimum[onnxruntime-gpu]) (4.66.4)\n",
      "Collecting xxhash (from datasets->optimum[onnxruntime-gpu])\n",
      "  Downloading xxhash-3.5.0-cp312-cp312-manylinux_2_17_x86_64.manylinux2014_x86_64.whl.metadata (12 kB)\n",
      "Collecting multiprocess (from datasets->optimum[onnxruntime-gpu])\n",
      "  Downloading multiprocess-0.70.16-py312-none-any.whl.metadata (7.2 kB)\n",
      "Requirement already satisfied: fsspec<=2024.6.1,>=2023.1.0 in /global/homes/g/gzhao27/anaconda3/envs/Prompt/lib/python3.12/site-packages (from fsspec[http]<=2024.6.1,>=2023.1.0->datasets->optimum[onnxruntime-gpu]) (2024.6.1)\n",
      "Collecting aiohttp (from datasets->optimum[onnxruntime-gpu])\n",
      "  Downloading aiohttp-3.10.5-cp312-cp312-manylinux_2_17_x86_64.manylinux2014_x86_64.whl.metadata (7.5 kB)\n",
      "Requirement already satisfied: pyyaml>=5.1 in /global/homes/g/gzhao27/anaconda3/envs/Prompt/lib/python3.12/site-packages (from datasets->optimum[onnxruntime-gpu]) (6.0.1)\n",
      "Requirement already satisfied: typing-extensions>=3.7.4.3 in /global/homes/g/gzhao27/anaconda3/envs/Prompt/lib/python3.12/site-packages (from huggingface-hub>=0.8.0->optimum[onnxruntime-gpu]) (4.12.2)\n",
      "Collecting flatbuffers (from onnxruntime-gpu>=1.11.0->optimum[onnxruntime-gpu])\n",
      "  Downloading flatbuffers-24.3.25-py2.py3-none-any.whl.metadata (850 bytes)\n",
      "Requirement already satisfied: networkx in /global/homes/g/gzhao27/anaconda3/envs/Prompt/lib/python3.12/site-packages (from torch>=1.11->optimum[onnxruntime-gpu]) (3.3)\n",
      "Requirement already satisfied: jinja2 in /global/homes/g/gzhao27/anaconda3/envs/Prompt/lib/python3.12/site-packages (from torch>=1.11->optimum[onnxruntime-gpu]) (3.1.4)\n",
      "Requirement already satisfied: nvidia-cuda-nvrtc-cu12==12.1.105 in /global/homes/g/gzhao27/anaconda3/envs/Prompt/lib/python3.12/site-packages (from torch>=1.11->optimum[onnxruntime-gpu]) (12.1.105)\n",
      "Requirement already satisfied: nvidia-cuda-runtime-cu12==12.1.105 in /global/homes/g/gzhao27/anaconda3/envs/Prompt/lib/python3.12/site-packages (from torch>=1.11->optimum[onnxruntime-gpu]) (12.1.105)\n",
      "Requirement already satisfied: nvidia-cuda-cupti-cu12==12.1.105 in /global/homes/g/gzhao27/anaconda3/envs/Prompt/lib/python3.12/site-packages (from torch>=1.11->optimum[onnxruntime-gpu]) (12.1.105)\n",
      "Requirement already satisfied: nvidia-cudnn-cu12==8.9.2.26 in /global/homes/g/gzhao27/anaconda3/envs/Prompt/lib/python3.12/site-packages (from torch>=1.11->optimum[onnxruntime-gpu]) (8.9.2.26)\n",
      "Requirement already satisfied: nvidia-cublas-cu12==12.1.3.1 in /global/homes/g/gzhao27/anaconda3/envs/Prompt/lib/python3.12/site-packages (from torch>=1.11->optimum[onnxruntime-gpu]) (12.1.3.1)\n",
      "Requirement already satisfied: nvidia-cufft-cu12==11.0.2.54 in /global/homes/g/gzhao27/anaconda3/envs/Prompt/lib/python3.12/site-packages (from torch>=1.11->optimum[onnxruntime-gpu]) (11.0.2.54)\n",
      "Requirement already satisfied: nvidia-curand-cu12==10.3.2.106 in /global/homes/g/gzhao27/anaconda3/envs/Prompt/lib/python3.12/site-packages (from torch>=1.11->optimum[onnxruntime-gpu]) (10.3.2.106)\n",
      "Requirement already satisfied: nvidia-cusolver-cu12==11.4.5.107 in /global/homes/g/gzhao27/anaconda3/envs/Prompt/lib/python3.12/site-packages (from torch>=1.11->optimum[onnxruntime-gpu]) (11.4.5.107)\n",
      "Requirement already satisfied: nvidia-cusparse-cu12==12.1.0.106 in /global/homes/g/gzhao27/anaconda3/envs/Prompt/lib/python3.12/site-packages (from torch>=1.11->optimum[onnxruntime-gpu]) (12.1.0.106)\n",
      "Requirement already satisfied: nvidia-nccl-cu12==2.20.5 in /global/homes/g/gzhao27/anaconda3/envs/Prompt/lib/python3.12/site-packages (from torch>=1.11->optimum[onnxruntime-gpu]) (2.20.5)\n",
      "Requirement already satisfied: nvidia-nvtx-cu12==12.1.105 in /global/homes/g/gzhao27/anaconda3/envs/Prompt/lib/python3.12/site-packages (from torch>=1.11->optimum[onnxruntime-gpu]) (12.1.105)\n",
      "Requirement already satisfied: nvidia-nvjitlink-cu12 in /global/homes/g/gzhao27/anaconda3/envs/Prompt/lib/python3.12/site-packages (from nvidia-cusolver-cu12==11.4.5.107->torch>=1.11->optimum[onnxruntime-gpu]) (12.5.82)\n",
      "Requirement already satisfied: regex!=2019.12.17 in /global/homes/g/gzhao27/anaconda3/envs/Prompt/lib/python3.12/site-packages (from transformers<4.45.0,>=4.29->transformers[sentencepiece]<4.45.0,>=4.29->optimum[onnxruntime-gpu]) (2024.5.15)\n",
      "Requirement already satisfied: safetensors>=0.4.1 in /global/homes/g/gzhao27/anaconda3/envs/Prompt/lib/python3.12/site-packages (from transformers<4.45.0,>=4.29->transformers[sentencepiece]<4.45.0,>=4.29->optimum[onnxruntime-gpu]) (0.4.3)\n",
      "Requirement already satisfied: tokenizers<0.20,>=0.19 in /global/homes/g/gzhao27/anaconda3/envs/Prompt/lib/python3.12/site-packages (from transformers<4.45.0,>=4.29->transformers[sentencepiece]<4.45.0,>=4.29->optimum[onnxruntime-gpu]) (0.19.1)\n",
      "Collecting sentencepiece!=0.1.92,>=0.1.91 (from transformers[sentencepiece]<4.45.0,>=4.29->optimum[onnxruntime-gpu])\n",
      "  Downloading sentencepiece-0.2.0-cp312-cp312-manylinux_2_17_x86_64.manylinux2014_x86_64.whl.metadata (7.7 kB)\n",
      "Requirement already satisfied: psutil in /global/homes/g/gzhao27/anaconda3/envs/Prompt/lib/python3.12/site-packages (from accelerate->optimum[onnxruntime-gpu]) (5.9.0)\n",
      "Collecting humanfriendly>=9.1 (from coloredlogs->optimum[onnxruntime-gpu])\n",
      "  Downloading humanfriendly-10.0-py2.py3-none-any.whl.metadata (9.2 kB)\n",
      "Requirement already satisfied: mpmath<1.4,>=1.1.0 in /global/homes/g/gzhao27/anaconda3/envs/Prompt/lib/python3.12/site-packages (from sympy->optimum[onnxruntime-gpu]) (1.3.0)\n",
      "Collecting aiohappyeyeballs>=2.3.0 (from aiohttp->datasets->optimum[onnxruntime-gpu])\n",
      "  Downloading aiohappyeyeballs-2.4.0-py3-none-any.whl.metadata (5.9 kB)\n",
      "Collecting aiosignal>=1.1.2 (from aiohttp->datasets->optimum[onnxruntime-gpu])\n",
      "  Downloading aiosignal-1.3.1-py3-none-any.whl.metadata (4.0 kB)\n",
      "Requirement already satisfied: attrs>=17.3.0 in /global/homes/g/gzhao27/anaconda3/envs/Prompt/lib/python3.12/site-packages (from aiohttp->datasets->optimum[onnxruntime-gpu]) (23.2.0)\n",
      "Collecting frozenlist>=1.1.1 (from aiohttp->datasets->optimum[onnxruntime-gpu])\n",
      "  Downloading frozenlist-1.4.1-cp312-cp312-manylinux_2_5_x86_64.manylinux1_x86_64.manylinux_2_17_x86_64.manylinux2014_x86_64.whl.metadata (12 kB)\n",
      "Collecting multidict<7.0,>=4.5 (from aiohttp->datasets->optimum[onnxruntime-gpu])\n",
      "  Downloading multidict-6.1.0-cp312-cp312-manylinux_2_17_x86_64.manylinux2014_x86_64.whl.metadata (5.0 kB)\n",
      "Collecting yarl<2.0,>=1.0 (from aiohttp->datasets->optimum[onnxruntime-gpu])\n",
      "  Downloading yarl-1.11.1-cp312-cp312-manylinux_2_17_x86_64.manylinux2014_x86_64.whl.metadata (48 kB)\n",
      "\u001b[2K     \u001b[90m━━━━━━━━━━━━━━━━━━━━━━━━━━━━━━━━━━━━━━━━\u001b[0m \u001b[32m48.2/48.2 kB\u001b[0m \u001b[31m2.7 MB/s\u001b[0m eta \u001b[36m0:00:00\u001b[0m\n",
      "\u001b[?25hRequirement already satisfied: charset-normalizer<4,>=2 in /global/homes/g/gzhao27/anaconda3/envs/Prompt/lib/python3.12/site-packages (from requests>=2.32.2->datasets->optimum[onnxruntime-gpu]) (3.3.2)\n",
      "Requirement already satisfied: idna<4,>=2.5 in /global/homes/g/gzhao27/anaconda3/envs/Prompt/lib/python3.12/site-packages (from requests>=2.32.2->datasets->optimum[onnxruntime-gpu]) (3.7)\n",
      "Requirement already satisfied: urllib3<3,>=1.21.1 in /global/homes/g/gzhao27/anaconda3/envs/Prompt/lib/python3.12/site-packages (from requests>=2.32.2->datasets->optimum[onnxruntime-gpu]) (2.2.2)\n",
      "Requirement already satisfied: certifi>=2017.4.17 in /global/homes/g/gzhao27/anaconda3/envs/Prompt/lib/python3.12/site-packages (from requests>=2.32.2->datasets->optimum[onnxruntime-gpu]) (2024.7.4)\n",
      "Requirement already satisfied: MarkupSafe>=2.0 in /global/homes/g/gzhao27/anaconda3/envs/Prompt/lib/python3.12/site-packages (from jinja2->torch>=1.11->optimum[onnxruntime-gpu]) (2.1.5)\n",
      "Requirement already satisfied: python-dateutil>=2.8.2 in /global/homes/g/gzhao27/anaconda3/envs/Prompt/lib/python3.12/site-packages (from pandas->datasets->optimum[onnxruntime-gpu]) (2.9.0)\n",
      "Requirement already satisfied: pytz>=2020.1 in /global/homes/g/gzhao27/anaconda3/envs/Prompt/lib/python3.12/site-packages (from pandas->datasets->optimum[onnxruntime-gpu]) (2024.1)\n",
      "Requirement already satisfied: tzdata>=2022.7 in /global/homes/g/gzhao27/anaconda3/envs/Prompt/lib/python3.12/site-packages (from pandas->datasets->optimum[onnxruntime-gpu]) (2024.1)\n",
      "Requirement already satisfied: six>=1.5 in /global/homes/g/gzhao27/anaconda3/envs/Prompt/lib/python3.12/site-packages (from python-dateutil>=2.8.2->pandas->datasets->optimum[onnxruntime-gpu]) (1.16.0)\n",
      "Downloading datasets-3.0.0-py3-none-any.whl (474 kB)\n",
      "\u001b[2K   \u001b[90m━━━━━━━━━━━━━━━━━━━━━━━━━━━━━━━━━━━━━━━━\u001b[0m \u001b[32m474.3/474.3 kB\u001b[0m \u001b[31m12.7 MB/s\u001b[0m eta \u001b[36m0:00:00\u001b[0ma \u001b[36m0:00:01\u001b[0m\n",
      "\u001b[?25hDownloading onnxruntime_gpu-1.19.2-cp312-cp312-manylinux_2_27_x86_64.manylinux_2_28_x86_64.whl (226.2 MB)\n",
      "\u001b[2K   \u001b[90m━━━━━━━━━━━━━━━━━━━━━━━━━━━━━━━━━━━━━━━\u001b[0m \u001b[32m226.2/226.2 MB\u001b[0m \u001b[31m205.3 MB/s\u001b[0m eta \u001b[36m0:00:00\u001b[0m00:01\u001b[0m00:01\u001b[0m\n",
      "\u001b[?25hDownloading coloredlogs-15.0.1-py2.py3-none-any.whl (46 kB)\n",
      "\u001b[2K   \u001b[90m━━━━━━━━━━━━━━━━━━━━━━━━━━━━━━━━━━━━━━━━\u001b[0m \u001b[32m46.0/46.0 kB\u001b[0m \u001b[31m269.2 MB/s\u001b[0m eta \u001b[36m0:00:00\u001b[0m\n",
      "\u001b[?25hDownloading evaluate-0.4.3-py3-none-any.whl (84 kB)\n",
      "\u001b[2K   \u001b[90m━━━━━━━━━━━━━━━━━━━━━━━━━━━━━━━━━━━━━━━━\u001b[0m \u001b[32m84.0/84.0 kB\u001b[0m \u001b[31m316.6 MB/s\u001b[0m eta \u001b[36m0:00:00\u001b[0m\n",
      "\u001b[?25hDownloading onnx-1.16.2-cp312-cp312-manylinux_2_17_x86_64.manylinux2014_x86_64.whl (15.9 MB)\n",
      "\u001b[2K   \u001b[90m━━━━━━━━━━━━━━━━━━━━━━━━━━━━━━━━━━━━━━━━\u001b[0m \u001b[32m15.9/15.9 MB\u001b[0m \u001b[31m332.1 MB/s\u001b[0m eta \u001b[36m0:00:00\u001b[0ma \u001b[36m0:00:01\u001b[0m\n",
      "\u001b[?25hDownloading optimum-1.22.0-py3-none-any.whl (453 kB)\n",
      "\u001b[2K   \u001b[90m━━━━━━━━━━━━━━━━━━━━━━━━━━━━━━━━━━━━━━━\u001b[0m \u001b[32m453.7/453.7 kB\u001b[0m \u001b[31m375.1 MB/s\u001b[0m eta \u001b[36m0:00:00\u001b[0m\n",
      "\u001b[?25hDownloading aiohttp-3.10.5-cp312-cp312-manylinux_2_17_x86_64.manylinux2014_x86_64.whl (1.3 MB)\n",
      "\u001b[2K   \u001b[90m━━━━━━━━━━━━━━━━━━━━━━━━━━━━━━━━━━━━━━━━\u001b[0m \u001b[32m1.3/1.3 MB\u001b[0m \u001b[31m393.2 MB/s\u001b[0m eta \u001b[36m0:00:00\u001b[0m\n",
      "\u001b[?25hDownloading humanfriendly-10.0-py2.py3-none-any.whl (86 kB)\n",
      "\u001b[2K   \u001b[90m━━━━━━━━━━━━━━━━━━━━━━━━━━━━━━━━━━━━━━━━\u001b[0m \u001b[32m86.8/86.8 kB\u001b[0m \u001b[31m318.3 MB/s\u001b[0m eta \u001b[36m0:00:00\u001b[0m\n",
      "\u001b[?25hDownloading pyarrow-17.0.0-cp312-cp312-manylinux_2_28_x86_64.whl (39.9 MB)\n",
      "\u001b[2K   \u001b[90m━━━━━━━━━━━━━━━━━━━━━━━━━━━━━━━━━━━━━━━━\u001b[0m \u001b[32m39.9/39.9 MB\u001b[0m \u001b[31m326.1 MB/s\u001b[0m eta \u001b[36m0:00:00\u001b[0ma \u001b[36m0:00:01\u001b[0m\n",
      "\u001b[?25hDownloading sentencepiece-0.2.0-cp312-cp312-manylinux_2_17_x86_64.manylinux2014_x86_64.whl (1.3 MB)\n",
      "\u001b[2K   \u001b[90m━━━━━━━━━━━━━━━━━━━━━━━━━━━━━━━━━━━━━━━━\u001b[0m \u001b[32m1.3/1.3 MB\u001b[0m \u001b[31m323.4 MB/s\u001b[0m eta \u001b[36m0:00:00\u001b[0m\n",
      "\u001b[?25hDownloading flatbuffers-24.3.25-py2.py3-none-any.whl (26 kB)\n",
      "Downloading multiprocess-0.70.16-py312-none-any.whl (146 kB)\n",
      "\u001b[2K   \u001b[90m━━━━━━━━━━━━━━━━━━━━━━━━━━━━━━━━━━━━━━━\u001b[0m \u001b[32m146.7/146.7 kB\u001b[0m \u001b[31m345.1 MB/s\u001b[0m eta \u001b[36m0:00:00\u001b[0m\n",
      "\u001b[?25hDownloading xxhash-3.5.0-cp312-cp312-manylinux_2_17_x86_64.manylinux2014_x86_64.whl (194 kB)\n",
      "\u001b[2K   \u001b[90m━━━━━━━━━━━━━━━━━━━━━━━━━━━━━━━━━━━━━━━\u001b[0m \u001b[32m194.4/194.4 kB\u001b[0m \u001b[31m364.9 MB/s\u001b[0m eta \u001b[36m0:00:00\u001b[0m\n",
      "\u001b[?25hDownloading aiohappyeyeballs-2.4.0-py3-none-any.whl (12 kB)\n",
      "Downloading aiosignal-1.3.1-py3-none-any.whl (7.6 kB)\n",
      "Downloading frozenlist-1.4.1-cp312-cp312-manylinux_2_5_x86_64.manylinux1_x86_64.manylinux_2_17_x86_64.manylinux2014_x86_64.whl (281 kB)\n",
      "\u001b[2K   \u001b[90m━━━━━━━━━━━━━━━━━━━━━━━━━━━━━━━━━━━━━━━\u001b[0m \u001b[32m281.5/281.5 kB\u001b[0m \u001b[31m372.2 MB/s\u001b[0m eta \u001b[36m0:00:00\u001b[0m\n",
      "\u001b[?25hDownloading multidict-6.1.0-cp312-cp312-manylinux_2_17_x86_64.manylinux2014_x86_64.whl (131 kB)\n",
      "\u001b[2K   \u001b[90m━━━━━━━━━━━━━━━━━━━━━━━━━━━━━━━━━━━━━━━\u001b[0m \u001b[32m131.0/131.0 kB\u001b[0m \u001b[31m316.7 MB/s\u001b[0m eta \u001b[36m0:00:00\u001b[0m\n",
      "\u001b[?25hDownloading yarl-1.11.1-cp312-cp312-manylinux_2_17_x86_64.manylinux2014_x86_64.whl (489 kB)\n",
      "\u001b[2K   \u001b[90m━━━━━━━━━━━━━━━━━━━━━━━━━━━━━━━━━━━━━━━\u001b[0m \u001b[32m489.1/489.1 kB\u001b[0m \u001b[31m384.6 MB/s\u001b[0m eta \u001b[36m0:00:00\u001b[0m\n",
      "\u001b[?25hInstalling collected packages: sentencepiece, flatbuffers, xxhash, pyarrow, onnx, multiprocess, multidict, humanfriendly, frozenlist, aiohappyeyeballs, yarl, coloredlogs, aiosignal, onnxruntime-gpu, aiohttp, datasets, optimum, evaluate\n",
      "Successfully installed aiohappyeyeballs-2.4.0 aiohttp-3.10.5 aiosignal-1.3.1 coloredlogs-15.0.1 datasets-3.0.0 evaluate-0.4.3 flatbuffers-24.3.25 frozenlist-1.4.1 humanfriendly-10.0 multidict-6.1.0 multiprocess-0.70.16 onnx-1.16.2 onnxruntime-gpu-1.19.2 optimum-1.22.0 pyarrow-17.0.0 sentencepiece-0.2.0 xxhash-3.5.0 yarl-1.11.1\n"
     ]
    }
   ],
   "source": [
    "!pip install optimum[onnxruntime-gpu]"
   ]
  },
  {
   "cell_type": "code",
   "execution_count": 51,
   "metadata": {},
   "outputs": [
    {
     "name": "stdout",
     "output_type": "stream",
     "text": [
      "[{'label': 'LABEL_1', 'score': 0.9684914350509644}, {'label': 'LABEL_1', 'score': 0.7473592758178711}, {'label': 'LABEL_1', 'score': 0.6991557478904724}]\n"
     ]
    }
   ],
   "source": [
    "from transformers import AutoTokenizer\n",
    "from optimum.onnxruntime import ORTModelForSequenceClassification\n",
    "from optimum.pipelines import pipeline\n",
    "\n",
    "# load tokenizer and model weights\n",
    "tokenizer = AutoTokenizer.from_pretrained('Deepchecks/parrot_fluency_model_onnx')\n",
    "model = ORTModelForSequenceClassification.from_pretrained('Deepchecks/parrot_fluency_model_onnx')\n",
    "\n",
    "# prepare the pipeline and generate inferences\n",
    "user_inputs = ['Natural language processing is an interdisciplinary subfield of linguistics, computer science, and artificial intelligence.',\n",
    "               'Pass on what you have learned. Strength, mastery, hmm… but weakness, folly, failure, also. Yes, failure, most of all. The greatest teacher, failure is.',\n",
    "               'Pros wonderful']\n",
    "pip = pipeline(task='text-classification', model=model, tokenizer=tokenizer, device=torch.device('cpu'), accelerator=\"ort\")\n",
    "res = pip(user_inputs, batch_size=64, truncation=\"only_first\")\n",
    "print(res)\n"
   ]
  },
  {
   "cell_type": "code",
   "execution_count": 9,
   "metadata": {},
   "outputs": [],
   "source": [
    "from transformers import GPT2Tokenizer, GPT2LMHeadModel\n",
    "import torch\n",
    "import math\n",
    "\n",
    "# Load pre-trained model and tokenizer\n",
    "\n",
    "def perplexity_calculate(input_text):\n",
    "    model_name = \"gpt2\"\n",
    "    tokenizer = GPT2Tokenizer.from_pretrained(model_name)\n",
    "    model = GPT2LMHeadModel.from_pretrained(model_name)\n",
    "\n",
    "    # Set the model to evaluation mode\n",
    "    model.eval()\n",
    "\n",
    "    # Tokenize the input\n",
    "    input_ids = tokenizer.encode(input_text, return_tensors=\"pt\")\n",
    "\n",
    "    # Get the model's output (logits and loss)\n",
    "    with torch.no_grad():\n",
    "        outputs = model(input_ids, labels=input_ids)\n",
    "        loss = outputs.loss\n",
    "\n",
    "    # Calculate perplexity\n",
    "    perplexity = torch.exp(loss)\n",
    "    print(f\"Perplexity: {perplexity.item()}\")\n"
   ]
  },
  {
   "cell_type": "code",
   "execution_count": 14,
   "metadata": {},
   "outputs": [
    {
     "data": {
      "text/plain": [
       "'Square Game Quality In Credit'"
      ]
     },
     "execution_count": 14,
     "metadata": {},
     "output_type": "execute_result"
    }
   ],
   "source": [
    "prlist = ['Square', 'Game', 'Quality', 'ĠIn', 'Credit']\n",
    "\" \".join([token.replace('Ġ', '') for token in prlist])"
   ]
  },
  {
   "cell_type": "code",
   "execution_count": 12,
   "metadata": {},
   "outputs": [
    {
     "name": "stdout",
     "output_type": "stream",
     "text": [
      "Perplexity: 39076.05078125\n"
     ]
    }
   ],
   "source": [
    "perplexity_calculate('Bytes Zero Share Alert Leader')"
   ]
  },
  {
   "cell_type": "code",
   "execution_count": 6,
   "metadata": {},
   "outputs": [
    {
     "data": {
      "text/plain": [
       "15.370862007141113"
      ]
     },
     "execution_count": 6,
     "metadata": {},
     "output_type": "execute_result"
    }
   ],
   "source": [
    "perplexity_calculate('Pros wonderful')"
   ]
  },
  {
   "cell_type": "code",
   "execution_count": 18,
   "metadata": {},
   "outputs": [
    {
     "data": {
      "text/plain": [
       "4.820967197418213"
      ]
     },
     "execution_count": 18,
     "metadata": {},
     "output_type": "execute_result"
    }
   ],
   "source": [
    "perplexity_calculate('I like you so much')"
   ]
  },
  {
   "cell_type": "code",
   "execution_count": 10,
   "metadata": {},
   "outputs": [
    {
     "name": "stderr",
     "output_type": "stream",
     "text": [
      "The attention mask and the pad token id were not set. As a consequence, you may observe unexpected behavior. Please pass your input's `attention_mask` to obtain reliable results.\n",
      "Setting `pad_token_id` to `eos_token_id`:50256 for open-end generation.\n"
     ]
    },
    {
     "name": "stdout",
     "output_type": "stream",
     "text": [
      "Once upon a time there used to be a separate society for Sylph, Sylvanas, Azmodan, Echargerated Kilrathi, zenkins and nature mages. Within that latter group, however, there is a split as well about\n"
     ]
    }
   ],
   "source": [
    "from transformers import GPT2LMHeadModel, GPT2Tokenizer\n",
    "\n",
    "model_name = 'gpt2'\n",
    "model = GPT2LMHeadModel.from_pretrained(model_name)\n",
    "tokenizer = GPT2Tokenizer.from_pretrained(model_name)\n",
    "\n",
    "input_text = \"Once upon a time\"\n",
    "input_ids = tokenizer.encode(input_text, return_tensors='pt')\n",
    "\n",
    "# Generate text with sampling\n",
    "output = model.generate(input_ids, max_length=50, do_sample=True, top_k=0)\n",
    "generated_text = tokenizer.decode(output[0], skip_special_tokens=True)\n",
    "print(generated_text)\n"
   ]
  },
  {
   "cell_type": "code",
   "execution_count": 1,
   "metadata": {},
   "outputs": [],
   "source": [
    "yx = 3"
   ]
  },
  {
   "cell_type": "code",
   "execution_count": 2,
   "metadata": {},
   "outputs": [],
   "source": [
    "import torch\n",
    "z = torch.tensor(12)"
   ]
  },
  {
   "cell_type": "code",
   "execution_count": 1,
   "metadata": {},
   "outputs": [],
   "source": [
    "import torch\n",
    "losses1 = torch.tensor([])"
   ]
  },
  {
   "cell_type": "code",
   "execution_count": 9,
   "metadata": {},
   "outputs": [],
   "source": [
    "torch.tensor(0.0, requires_grad=True).grad"
   ]
  },
  {
   "cell_type": "code",
   "execution_count": 4,
   "metadata": {},
   "outputs": [
    {
     "data": {
      "text/plain": [
       "tensor(12)"
      ]
     },
     "execution_count": 4,
     "metadata": {},
     "output_type": "execute_result"
    }
   ],
   "source": [
    "z.to(z.device)"
   ]
  },
  {
   "cell_type": "code",
   "execution_count": 9,
   "metadata": {},
   "outputs": [
    {
     "name": "stdout",
     "output_type": "stream",
     "text": [
      "Pareto dominant volume: 36.0\n"
     ]
    }
   ],
   "source": [
    "import torch\n",
    "\n",
    "def pareto_dominant_volume(sample_points, reference_point):\n",
    "    \"\"\"\n",
    "    Calculate the Pareto dominant volume of sample points with respect to a reference point.\n",
    "    \n",
    "    Args:\n",
    "    - sample_points (torch.Tensor): Tensor of size N*2 containing N sample points.\n",
    "    - reference_point (torch.Tensor): Tensor of size 2 containing the reference point.\n",
    "    \n",
    "    Returns:\n",
    "    - float: Pareto dominant volume.\n",
    "    \"\"\"\n",
    "    # Calculate the number of sample points\n",
    "    num_points = sample_points.size(0)\n",
    "    \n",
    "    # Calculate the number of dimensions\n",
    "    num_dimensions = sample_points.size(1)\n",
    "    \n",
    "    # Initialize a counter for dominated points\n",
    "    dominated_count = 0\n",
    "    \n",
    "    # Iterate through each sample point\n",
    "    for i in range(num_points):\n",
    "        # Check if the sample point dominates the reference point\n",
    "        if torch.all(sample_points[i] <= reference_point):\n",
    "            # Increment the counter for dominated points\n",
    "            dominated_count += 1\n",
    "    \n",
    "    # Calculate the ratio of dominated points to total points\n",
    "    dominance_ratio = dominated_count / num_points\n",
    "    \n",
    "    # Calculate the Pareto dominant volume (area in 2D)\n",
    "    pareto_volume = dominance_ratio * (reference_point[0] - sample_points[:, 0].min()) * (reference_point[1] - sample_points[:, 1].min())\n",
    "    \n",
    "    return pareto_volume\n",
    "\n",
    "# Example usage:\n",
    "sample_points = torch.tensor([[1.0, 2.0], [3.0, 4.0], [5.0, 6.0]])\n",
    "reference_point = torch.tensor([7.0, 8.0])\n",
    "\n",
    "pareto_volume = pareto_dominant_volume(sample_points, reference_point)\n",
    "print(\"Pareto dominant volume:\", pareto_volume.item())\n"
   ]
  },
  {
   "cell_type": "code",
   "execution_count": 13,
   "metadata": {},
   "outputs": [
    {
     "name": "stdout",
     "output_type": "stream",
     "text": [
      "[[1 2]\n",
      " [2 3]\n",
      " [3 4]\n",
      " [4 5]\n",
      " [5 6]]\n",
      "Hypervolume Indicator: 15.0\n"
     ]
    }
   ],
   "source": [
    "\n",
    "import array\n",
    "import random\n",
    "import numpy as np\n",
    "\n",
    "# Example Pareto front (list of solutions with two objectives)\n",
    "pareto_front = [(1, 2), (2, 3), (3, 4), (4, 5), (5, 6)]\n",
    "\n",
    "# Function to calculate hypervolume indicator\n",
    "def hypervolume_indicator(pareto_front, ref_point):\n",
    "    \"\"\"\n",
    "    Calculate hypervolume indicator for a Pareto front and reference point.\n",
    "    \n",
    "    :param pareto_front: List of Pareto optimal solutions.\n",
    "    :param ref_point: Reference point for hypervolume calculation.\n",
    "    :return: Hypervolume indicator value.\n",
    "    \"\"\"\n",
    "    # Convert pareto front and reference point to numpy arrays\n",
    "    pareto_front = np.array(pareto_front)\n",
    "    ref_point = np.array(ref_point)\n",
    "    \n",
    "    # Sort Pareto front based on first objective (ascending order)\n",
    "    pareto_front = pareto_front[np.argsort(pareto_front[:, 0])]\n",
    "    print(pareto_front)\n",
    "    # Initialize hypervolume\n",
    "    hypervolume = 0.0\n",
    "    \n",
    "    # Iterate through solutions in Pareto front\n",
    "    for i in range(len(pareto_front)):\n",
    "        # Calculate hypervolume contribution of current solution\n",
    "        if i == 0:\n",
    "            hypervolume += (ref_point[0] - pareto_front[i][0]) * (ref_point[1] - pareto_front[i][1])\n",
    "        else:\n",
    "            hypervolume += (pareto_front[i-1][0] - pareto_front[i][0]) * (ref_point[1] - pareto_front[i][1])\n",
    "    \n",
    "    return hypervolume\n",
    "\n",
    "# Reference point for hypervolume calculation (maximum values for each objective)\n",
    "reference_point = (6, 7)\n",
    "\n",
    "# Calculate hypervolume indicator\n",
    "hv = hypervolume_indicator(pareto_front, reference_point)\n",
    "print(\"Hypervolume Indicator:\", hv)\n"
   ]
  },
  {
   "cell_type": "code",
   "execution_count": 10,
   "metadata": {},
   "outputs": [
    {
     "name": "stdout",
     "output_type": "stream",
     "text": [
      "Pareto dominant volume: 42.0\n"
     ]
    }
   ],
   "source": [
    "sample_points = torch.tensor([[1.0, 2.0], [2.0, 1.0], [5.0, 6.0]])\n",
    "reference_point = torch.tensor([7.0, 8.0])\n",
    "\n",
    "pareto_volume = pareto_dominant_volume(sample_points, reference_point)\n",
    "print(\"Pareto dominant volume:\", pareto_volume.item())"
   ]
  },
  {
   "cell_type": "code",
   "execution_count": 2,
   "metadata": {},
   "outputs": [],
   "source": [
    "import torch\n",
    "\n",
    "def pareto_dominance_volume(sample_points, reference_point):\n",
    "    # Calculate the minimum and maximum x and y values\n",
    "    min_x = torch.min(sample_points[:, 0])\n",
    "    max_x = torch.max(sample_points[:, 0])\n",
    "    min_y = torch.min(sample_points[:, 1])\n",
    "    max_y = torch.max(sample_points[:, 1])\n",
    "    \n",
    "    # Calculate the area dominated by the sample points and also dominating the reference point\n",
    "    dominate_volume = (max_x - min_x) * (max_y - min_y)\n",
    "    \n",
    "    # Check if the reference point is dominated by the sample points\n",
    "    if (reference_point[0] >= min_x) and (reference_point[0] <= max_x) and (reference_point[1] >= min_y) and (reference_point[1] <= max_y):\n",
    "        dominate_volume -= (reference_point[0] - min_x) * (reference_point[1] - min_y)\n",
    "    \n",
    "    return dominate_volume"
   ]
  },
  {
   "cell_type": "code",
   "execution_count": 3,
   "metadata": {},
   "outputs": [
    {
     "data": {
      "text/plain": [
       "tensor(36.)"
      ]
     },
     "execution_count": 3,
     "metadata": {},
     "output_type": "execute_result"
    }
   ],
   "source": [
    "pareto_dominant_volume(sample_points, reference_point)"
   ]
  },
  {
   "cell_type": "code",
   "execution_count": 5,
   "metadata": {},
   "outputs": [
    {
     "name": "stdout",
     "output_type": "stream",
     "text": [
      "Pareto dominant volume: 36.0\n"
     ]
    }
   ],
   "source": [
    "import torch\n",
    "\n",
    "def pareto_dominant_volume(sample_points, reference_point):\n",
    "    \"\"\"\n",
    "    Calculate the Pareto dominant volume of sample points with respect to a reference point.\n",
    "    \n",
    "    Args:\n",
    "    - sample_points (torch.Tensor): Tensor of size N*2 containing N sample points.\n",
    "    - reference_point (torch.Tensor): Tensor of size 2 containing the reference point.\n",
    "    \n",
    "    Returns:\n",
    "    - float: Pareto dominant volume.\n",
    "    \"\"\"\n",
    "    # Calculate the number of sample points\n",
    "    num_points = sample_points.size(0)\n",
    "    \n",
    "    # Calculate the number of dimensions\n",
    "    num_dimensions = sample_points.size(1)\n",
    "    \n",
    "    # Initialize a counter for dominating points\n",
    "    dominating_count = 0\n",
    "    \n",
    "    # Iterate through each sample point\n",
    "    for i in range(num_points):\n",
    "        # Check if the sample point is dominated by the reference point\n",
    "        if torch.all(sample_points[i] <= reference_point):\n",
    "            # Increment the counter for dominating points\n",
    "            dominating_count += 1\n",
    "    \n",
    "    # Calculate the ratio of dominating points to total points\n",
    "    dominance_ratio = dominating_count / num_points\n",
    "    \n",
    "    # Calculate the Pareto dominant volume (area in 2D)\n",
    "    pareto_volume = dominance_ratio * (reference_point[0] - sample_points[:, 0].min()) * (reference_point[1] - sample_points[:, 1].min())\n",
    "    \n",
    "    return pareto_volume\n",
    "\n",
    "# Example usage:\n",
    "sample_points = torch.tensor([[1.0, 2.0], [3.0, 4.0], [5.0, 6.0]])\n",
    "reference_point = torch.tensor([7.0, 8.0])\n",
    "\n",
    "pareto_volume = pareto_dominant_volume(sample_points, reference_point)\n",
    "print(\"Pareto dominant volume:\", pareto_volume.item())\n"
   ]
  },
  {
   "cell_type": "code",
   "execution_count": 6,
   "metadata": {},
   "outputs": [],
   "source": [
    "import torch\n",
    "\n",
    "def pareto_dominate_volume(sample_points, reference_point):\n",
    "  \"\"\"\n",
    "  Calculates the Pareto dominate volume of sample points with respect to a reference point.\n",
    "\n",
    "  Args:\n",
    "      sample_points: A torch tensor of size (N, 2) representing the sample points.\n",
    "      reference_point: A torch tensor of size (2) representing the reference point.\n",
    "\n",
    "  Returns:\n",
    "      A float representing the Pareto dominate volume.\n",
    "  \"\"\"\n",
    "  # Check for valid input shapes\n",
    "  if sample_points.dim() != 2 or sample_points.shape[1] != 2:\n",
    "    raise ValueError(\"sample_points must be a tensor of size (N, 2)\")\n",
    "  if reference_point.dim() != 1 or reference_point.shape[0] != 2:\n",
    "    raise ValueError(\"reference_point must be a tensor of size (2)\")\n",
    "\n",
    "  # Calculate the number of dimensions (objectives)\n",
    "  num_objectives = sample_points.shape[1]\n",
    "\n",
    "  # Calculate boolean mask for points dominating the reference point in all dimensions\n",
    "  dominates_reference = torch.all(sample_points < reference_point, dim=1)\n",
    "\n",
    "  # Calculate boolean mask for points not dominated by any other sample point\n",
    "  not_dominated = torch.ones(sample_points.shape[0], dtype=bool)\n",
    "  for i in range(sample_points.shape[0]):\n",
    "    current_point = sample_points[i]\n",
    "    other_points = torch.cat((sample_points[:i], sample_points[i+1:]), dim=0)\n",
    "    not_dominated[i] = torch.any(~torch.all(other_points <= current_point, dim=1))\n",
    "\n",
    "  # Calculate the final mask for points in the Pareto dominate volume\n",
    "  pareto_dominate = dominates_reference & not_dominated\n",
    "\n",
    "  # Calculate the area (assuming minimization problems) by summing dominated objective differences\n",
    "  dominate_volume = torch.sum(torch.where(pareto_dominate, reference_point - sample_points, torch.zeros_like(sample_points)))\n",
    "\n",
    "  return dominate_volume.item()  # Return the scalar value\n"
   ]
  },
  {
   "cell_type": "code",
   "execution_count": 8,
   "metadata": {},
   "outputs": [
    {
     "ename": "RuntimeError",
     "evalue": "The size of tensor a (3) must match the size of tensor b (2) at non-singleton dimension 1",
     "output_type": "error",
     "traceback": [
      "\u001b[0;31m---------------------------------------------------------------------------\u001b[0m",
      "\u001b[0;31mRuntimeError\u001b[0m                              Traceback (most recent call last)",
      "Cell \u001b[0;32mIn[8], line 1\u001b[0m\n\u001b[0;32m----> 1\u001b[0m \u001b[43mpareto_dominate_volume\u001b[49m\u001b[43m(\u001b[49m\u001b[43msample_points\u001b[49m\u001b[43m,\u001b[49m\u001b[43m \u001b[49m\u001b[43mreference_point\u001b[49m\u001b[43m)\u001b[49m\n",
      "Cell \u001b[0;32mIn[6], line 37\u001b[0m, in \u001b[0;36mpareto_dominate_volume\u001b[0;34m(sample_points, reference_point)\u001b[0m\n\u001b[1;32m     34\u001b[0m pareto_dominate \u001b[38;5;241m=\u001b[39m dominates_reference \u001b[38;5;241m&\u001b[39m not_dominated\n\u001b[1;32m     36\u001b[0m \u001b[38;5;66;03m# Calculate the area (assuming minimization problems) by summing dominated objective differences\u001b[39;00m\n\u001b[0;32m---> 37\u001b[0m dominate_volume \u001b[38;5;241m=\u001b[39m torch\u001b[38;5;241m.\u001b[39msum(\u001b[43mtorch\u001b[49m\u001b[38;5;241;43m.\u001b[39;49m\u001b[43mwhere\u001b[49m\u001b[43m(\u001b[49m\u001b[43mpareto_dominate\u001b[49m\u001b[43m,\u001b[49m\u001b[43m \u001b[49m\u001b[43mreference_point\u001b[49m\u001b[43m \u001b[49m\u001b[38;5;241;43m-\u001b[39;49m\u001b[43m \u001b[49m\u001b[43msample_points\u001b[49m\u001b[43m,\u001b[49m\u001b[43m \u001b[49m\u001b[43mtorch\u001b[49m\u001b[38;5;241;43m.\u001b[39;49m\u001b[43mzeros_like\u001b[49m\u001b[43m(\u001b[49m\u001b[43msample_points\u001b[49m\u001b[43m)\u001b[49m\u001b[43m)\u001b[49m)\n\u001b[1;32m     39\u001b[0m \u001b[38;5;28;01mreturn\u001b[39;00m dominate_volume\u001b[38;5;241m.\u001b[39mitem()\n",
      "\u001b[0;31mRuntimeError\u001b[0m: The size of tensor a (3) must match the size of tensor b (2) at non-singleton dimension 1"
     ]
    }
   ],
   "source": [
    "pareto_dominate_volume(sample_points, reference_point)"
   ]
  },
  {
   "cell_type": "code",
   "execution_count": 14,
   "metadata": {},
   "outputs": [
    {
     "name": "stdout",
     "output_type": "stream",
     "text": [
      "Pareto Front:\n",
      "tensor([[1, 2]])\n"
     ]
    }
   ],
   "source": [
    "import torch\n",
    "\n",
    "def find_pareto_front(samples):\n",
    "    \"\"\"\n",
    "    Find the Pareto front of given sample points.\n",
    "    \n",
    "    :param samples: Torch tensor of size N*2 containing sample points (N samples, 2 objectives).\n",
    "    :return: List of indices of points in the Pareto front.\n",
    "    \"\"\"\n",
    "    pareto_front = []\n",
    "    dominated_by = torch.zeros(samples.size(0), dtype=torch.bool)\n",
    "    \n",
    "    for i, point1 in enumerate(samples):\n",
    "        if not dominated_by[i]:\n",
    "            pareto_front.append(i)\n",
    "            for j, point2 in enumerate(samples):\n",
    "                if i != j:\n",
    "                    if torch.all(point1 <= point2):\n",
    "                        dominated_by[j] = True\n",
    "                    elif torch.all(point1 >= point2):\n",
    "                        dominated_by[i] = True\n",
    "                        pareto_front.remove(i)\n",
    "                        break\n",
    "                        \n",
    "    return pareto_front\n",
    "\n",
    "# Example sample points (torch tensor of size N*2)\n",
    "samples = torch.tensor([[1, 2], [2, 3], [3, 4], [4, 5], [5, 6]])\n",
    "\n",
    "# Find Pareto front\n",
    "pareto_front_indices = find_pareto_front(samples)\n",
    "\n",
    "# Print Pareto front\n",
    "pareto_front = samples[pareto_front_indices]\n",
    "print(\"Pareto Front:\")\n",
    "print(pareto_front)"
   ]
  },
  {
   "cell_type": "code",
   "execution_count": 41,
   "metadata": {},
   "outputs": [
    {
     "name": "stdout",
     "output_type": "stream",
     "text": [
      "tensor([[1.0000, 2.0000],\n",
      "        [1.2000, 1.7000],\n",
      "        [1.5000, 1.5000],\n",
      "        [2.0000, 1.0000]])\n",
      "tensor([1., 0.])\n",
      "tensor([1.2000, 0.0000])\n",
      "tensor([1.5000, 0.0000])\n",
      "tensor([2., 0.])\n",
      "Dominating Volume: tensor(3.2900)\n"
     ]
    }
   ],
   "source": [
    "import torch\n",
    "\n",
    "def find_pareto_front(samples):\n",
    "    \"\"\"\n",
    "    Find the Pareto front of given sample points.\n",
    "    \n",
    "    :param samples: Torch tensor of size N*2 containing sample points (N samples, 2 objectives).\n",
    "    :return: List of indices of points in the Pareto front.\n",
    "    \"\"\"\n",
    "    pareto_front = []\n",
    "    dominated_by = torch.zeros(samples.size(0), dtype=torch.bool)\n",
    "    \n",
    "    for i, point1 in enumerate(samples):\n",
    "        if not dominated_by[i]:\n",
    "            pareto_front.append(i)\n",
    "            for j, point2 in enumerate(samples):\n",
    "                if i != j:\n",
    "                    if torch.all(point1 >= point2):\n",
    "                        dominated_by[j] = True\n",
    "                    elif torch.all(point1 <= point2):\n",
    "                        dominated_by[i] = True\n",
    "                        pareto_front.remove(i)\n",
    "                        break\n",
    "    PF = samples[pareto_front]\n",
    "    return PF\n",
    "\n",
    "def calculate_dominating_volume(pareto_front, ref_point):\n",
    "    \"\"\"\n",
    "    Calculate the dominating volume of the Pareto front with respect to a reference point.\n",
    "    \n",
    "    :param pareto_front: Torch tensor of size N*2 containing points in the Pareto front (N points, 2 objectives).\n",
    "    :param ref_point: Torch tensor of size 2 representing the reference point.\n",
    "    :return: Dominating volume of the Pareto front.\n",
    "    \"\"\"\n",
    "    # Sort Pareto front based on the first objective (ascending order)\n",
    "    sorted_pareto_front = pareto_front[pareto_front[:, 0].argsort()]\n",
    "    \n",
    "    # Initialize dominating volume\n",
    "    dominating_volume = 0.0\n",
    "    \n",
    "    # Initialize the right upper corner of the rectangle\n",
    "    right_upper_corner = ref_point.clone()\n",
    "    print(sorted_pareto_front)\n",
    "    # Iterate through sorted Pareto front\n",
    "    for point in sorted_pareto_front:\n",
    "        # Calculate the width and height of the rectangle\n",
    "        width = right_upper_corner[0] - point[0]\n",
    "        height = right_upper_corner[1] - point[1]\n",
    "        \n",
    "        # Update dominating volume by adding the area of the rectangle\n",
    "        dominating_volume += width * height\n",
    "        \n",
    "        # Update the right upper corner for the next rectangle\n",
    "        right_upper_corner[0] = point[0]\n",
    "        print(right_upper_corner)\n",
    "    \n",
    "    return dominating_volume\n",
    "\n",
    "# Example sample points (torch tensor of size N*2)\n",
    "samples = torch.tensor([[1, 2], [2, 1], [2, 1], [1.2, 1.7], [1.5, 1.5]])\n",
    "\n",
    "# Find Pareto front\n",
    "pareto_front_indices = find_pareto_front(samples)\n",
    "# pareto_front = samples[pareto_front_indices]\n",
    "\n",
    "# Reference point (torch tensor of size 2)\n",
    "reference_point =torch.tensor([.0, .0])\n",
    "\n",
    "# Calculate dominating volume\n",
    "dominating_volume = calculate_dominating_volume(pareto_front, reference_point)\n",
    "\n",
    "# Print dominating volume\n",
    "print(\"Dominating Volume:\", dominating_volume)\n"
   ]
  },
  {
   "cell_type": "code",
   "execution_count": 37,
   "metadata": {},
   "outputs": [
    {
     "name": "stdout",
     "output_type": "stream",
     "text": [
      "Dominating Volume: tensor(15.3400)\n"
     ]
    }
   ],
   "source": [
    "import torch\n",
    "\n",
    "def find_pareto_front(samples):\n",
    "    \"\"\"\n",
    "    Find the Pareto front of given sample points.\n",
    "    \n",
    "    :param samples: Torch tensor of size N*2 containing sample points (N samples, 2 objectives).\n",
    "    :return: Pareto front as a torch tensor.\n",
    "    \"\"\"\n",
    "    pareto_front = []\n",
    "    dominated_by = torch.zeros(samples.size(0), dtype=torch.bool)\n",
    "    \n",
    "    for idx, point1 in enumerate(samples):\n",
    "        if not dominated_by[idx]:\n",
    "            pareto_front.append(idx)\n",
    "            for j, point2 in enumerate(samples):\n",
    "                if idx != j:\n",
    "                    if torch.all(point1 <= point2):\n",
    "                        dominated_by[j] = True\n",
    "                    elif torch.all(point1 >= point2):\n",
    "                        dominated_by[idx] = True\n",
    "                        pareto_front.remove(idx)\n",
    "                        break\n",
    "    pareto_front_tensor = samples[pareto_front]\n",
    "    return pareto_front_tensor\n",
    "\n",
    "def calculate_dominating_volume(pareto_front, ref_point):\n",
    "    \"\"\"\n",
    "    Calculate the dominating volume of the Pareto front with respect to a reference point.\n",
    "    \n",
    "    :param pareto_front: Torch tensor of size N*2 containing points in the Pareto front (N points, 2 objectives).\n",
    "    :param ref_point: Torch tensor of size 2 representing the reference point.\n",
    "    :return: Dominating volume of the Pareto front.\n",
    "    \"\"\"\n",
    "    # Sort Pareto front based on the first objective (ascending order)\n",
    "    sorted_pareto_front = pareto_front[pareto_front[:, 0].argsort()]\n",
    "    \n",
    "    # Initialize dominating volume\n",
    "    dominating_volume = 0.0\n",
    "    \n",
    "    # Initialize the upper left corner of the rectangle\n",
    "    upper_left_corner = ref_point.clone()\n",
    "    \n",
    "    # Iterate through sorted Pareto front\n",
    "    for point in sorted_pareto_front:\n",
    "        # Calculate the width and height of the rectangle\n",
    "        width = upper_left_corner[0] - point[0]\n",
    "        height = upper_left_corner[1] - point[1]\n",
    "        \n",
    "        # Update dominating volume by adding the area of the rectangle\n",
    "        dominating_volume += width * height\n",
    "        \n",
    "        # Update the upper left corner for the next rectangle\n",
    "        upper_left_corner[1] = point[1]\n",
    "    \n",
    "    return dominating_volume\n",
    "\n",
    "# Example sample points (torch tensor of size N*2)\n",
    "samples = torch.tensor([[1, 2], [2, 1], [3, 3], [1.2, 1.7], [1.5, 1.5]])\n",
    "\n",
    "# Find Pareto front\n",
    "pareto_front_tensor = find_pareto_front(samples)\n",
    "\n",
    "# Reference point (torch tensor of size 2)\n",
    "reference_point = torch.tensor([5.0, 5.0])\n",
    "\n",
    "# Calculate dominating volume\n",
    "dominating_volume = calculate_dominating_volume(pareto_front_tensor, reference_point)\n",
    "\n",
    "# Print dominating volume\n",
    "print(\"Dominating Volume:\", dominating_volume)\n"
   ]
  },
  {
   "cell_type": "code",
   "execution_count": 20,
   "metadata": {},
   "outputs": [],
   "source": [
    "pareto_front_indices = find_pareto_front(samples)\n",
    "pareto_front = samples[pareto_front_indices]\n"
   ]
  },
  {
   "cell_type": "code",
   "execution_count": 26,
   "metadata": {},
   "outputs": [
    {
     "data": {
      "text/plain": [
       "tensor([[1.0000, 2.0000],\n",
       "        [1.2000, 1.7000],\n",
       "        [1.5000, 1.5000],\n",
       "        [2.0000, 1.0000]])"
      ]
     },
     "execution_count": 26,
     "metadata": {},
     "output_type": "execute_result"
    }
   ],
   "source": [
    "pareto_front[pareto_front[:, 0].argsort()]"
   ]
  }
 ],
 "metadata": {
  "kernelspec": {
   "display_name": "base",
   "language": "python",
   "name": "python3"
  },
  "language_info": {
   "codemirror_mode": {
    "name": "ipython",
    "version": 3
   },
   "file_extension": ".py",
   "mimetype": "text/x-python",
   "name": "python",
   "nbconvert_exporter": "python",
   "pygments_lexer": "ipython3",
   "version": "3.12.2"
  }
 },
 "nbformat": 4,
 "nbformat_minor": 2
}
